{
  "cells": [
    {
      "cell_type": "markdown",
      "metadata": {
        "id": "E6lD9BARB8Ht"
      },
      "source": [
        "Лабораторная работа №1. Вариант №1.\n",
        "\n",
        "Задание №1.\n",
        "\n",
        "\n"
      ]
    },
    {
      "cell_type": "markdown",
      "metadata": {
        "id": "LyC4zOmzCg3d"
      },
      "source": [
        "\n",
        "\n",
        "1) Приведенная функция сортирует список по возрастанию.\n",
        "2) Вычислительная сложность O(n^2)"
      ]
    },
    {
      "cell_type": "code",
      "execution_count": 41,
      "metadata": {
        "colab": {
          "base_uri": "https://localhost:8080/",
          "height": 456
        },
        "id": "slcY3h4tDkPY",
        "outputId": "7974b114-6aa4-4d07-cc38-429803396090"
      },
      "outputs": [
        {
          "output_type": "stream",
          "name": "stdout",
          "text": [
            "foo\n",
            "   0.14155\n",
            "   0.52440\n",
            "   1.21167\n",
            "   2.19721\n",
            "   3.34770\n",
            "   4.88823\n",
            "   6.72567\n",
            "   8.84139\n",
            "  11.13845\n",
            "  14.03803\n"
          ]
        },
        {
          "output_type": "display_data",
          "data": {
            "text/plain": [
              "<Figure size 432x288 with 1 Axes>"
            ],
            "image/png": "[encoded data removed]"
          },
          "metadata": {
            "needs_background": "light"
          }
        }
      ],
      "source": [
        "import timeit\n",
        "import matplotlib.pyplot as plt\n",
        "\n",
        "\n",
        "def foo(a):\n",
        "  for i in range(len(a), 0, -10):\n",
        "    for j in range(1, i):\n",
        "      if a[j-1] > a[j]:\n",
        "        a[j-1], a[j] = a[j], a[j-1]\n",
        "  return a\n",
        "\n",
        "\n",
        "plt_x = []\n",
        "plt_y = []\n",
        "\n",
        "\n",
        "print(\"foo\")\n",
        "for i in range (1000,10001,1000):\n",
        "    plt_x.append(i)\n",
        "\n",
        "    x = list(range(i, 0, -10))\n",
        "    timefoo = timeit.Timer(f\"foo({x})\", globals=globals())\n",
        "\n",
        "    pt = timefoo.timeit(number=1000)\n",
        "    plt_y.append(pt)\n",
        "\n",
        "    print(\"%10.5f\" %(pt))\n",
        "\n",
        "plt.plot(plt_x, plt_y, color='red')\n",
        "plt.show()\n",
        "\n"
      ]
    },
    {
      "cell_type": "markdown",
      "metadata": {
        "id": "dn9X5mJJdTRt"
      },
      "source": [
        "Задание №2.\n",
        "\n",
        "Ассимптотическая сложность: O(n), O(n)\n"
      ]
    },
    {
      "cell_type": "code",
      "execution_count": 43,
      "metadata": {
        "colab": {
          "base_uri": "https://localhost:8080/",
          "height": 456
        },
        "id": "VjxUMgy5iaU4",
        "outputId": "01e7c652-02c6-4704-8448-599ee8a73fe2"
      },
      "outputs": [
        {
          "output_type": "stream",
          "name": "stdout",
          "text": [
            "min max first\tmin max second\n",
            "        0.28203,         0.24091\n",
            "        0.34985,         0.44744\n",
            "        0.52309,         0.67387\n",
            "        0.68041,         0.86881\n",
            "        0.88040,         1.09022\n",
            "        1.05708,         1.30689\n",
            "        1.25066,         1.55030\n",
            "        1.39921,         1.73108\n",
            "        1.58803,         1.96819\n",
            "        1.74177,         2.20910\n"
          ]
        },
        {
          "output_type": "display_data",
          "data": {
            "text/plain": [
              "<Figure size 432x288 with 1 Axes>"
            ],
            "image/png": "[encoded data removed]"
          },
          "metadata": {
            "needs_background": "light"
          }
        }
      ],
      "source": [
        "import timeit\n",
        "import matplotlib.pyplot as plt\n",
        "import random\n",
        "\n",
        "\n",
        "def min_max_first(a):\n",
        "  min = int()\n",
        "  max = int()\n",
        "\n",
        "  for i in a:\n",
        "    if i > max or max == None:\n",
        "      max = i\n",
        "    if i < min or min == None:\n",
        "      min = i\n",
        "\n",
        "  return min, max\n",
        "\n",
        "def min_max_second(a):\n",
        "  min = int()\n",
        "  max = int()\n",
        "\n",
        "  for i in range(0, len(a)):\n",
        "    if a[i] > max or max == None:\n",
        "      max = a[i]\n",
        "    if a[i] < min or min == None:\n",
        "      min = a[i]\n",
        "\n",
        "  return min, max\n",
        "\n",
        "\n",
        "plt_x = []\n",
        "plt_y = []\n",
        "plt_y2 = []\n",
        "\n",
        "a = []\n",
        "n = 10000\n",
        "while n > 0:\n",
        "  a.append(random.randint(-100, 1000))\n",
        "  n -= 1\n",
        "\n",
        "print(\"min max first\\tmin max second\")\n",
        "for i in range(1000,10001,1000):\n",
        "    plt_x.append(i)\n",
        "\n",
        "    x = a[0:i]\n",
        "\n",
        "    time1 = timeit.Timer(f\"min_max_1({x})\", globals=globals())\n",
        "    time2 = timeit.Timer(f\"min_max_2({x})\", globals=globals())\n",
        "\n",
        "    pt = time1.timeit(number=1000)\n",
        "    plt_y.append(pt)\n",
        "\n",
        "    pr = time2.timeit(number=1000)\n",
        "    plt_y2.append(pr)\n",
        "\n",
        "    print(\"%15.5f, %15.5f\" %(pt, pr))\n",
        "\n",
        "\n",
        "plt.plot(plt_x, plt_y)\n",
        "plt.plot(plt_x, plt_y2, color='red')\n",
        "plt.show()"
      ]
    },
    {
      "cell_type": "markdown",
      "metadata": {
        "id": "5Byv6RTNl78P"
      },
      "source": [
        "Задание №3.\n",
        "\n",
        "T1(N)=N^2-N-10\n",
        "\n",
        "T2(N)=4N+40\n",
        "40:4=10, следовательно размер массива будет равен 10.\n",
        "\n",
        "N=10 (размер массива)\n",
        "\n",
        "\n"
      ]
    },
    {
      "cell_type": "markdown",
      "metadata": {
        "id": "AOsMFbSdntZl"
      },
      "source": [
        "Задание №4.\n",
        "\n"
      ]
    },
    {
      "cell_type": "code",
      "execution_count": 11,
      "metadata": {
        "colab": {
          "base_uri": "https://localhost:8080/",
          "height": 265
        },
        "id": "B94RXT66oPc0",
        "outputId": "a3890490-a8cb-4e6f-b7fb-e7118cacd79a"
      },
      "outputs": [
        {
          "output_type": "display_data",
          "data": {
            "text/plain": [
              "<Figure size 432x288 with 1 Axes>"
            ],
            "image/png": "[encoded data removed]"
          },
          "metadata": {
            "needs_background": "light"
          }
        }
      ],
      "source": [
        "import timeit\n",
        "import matplotlib.pyplot as plt\n",
        "import random\n",
        "\n",
        "def del_test(collection):\n",
        "    del collection[1]\n",
        "\n",
        "\n",
        "time = timeit.Timer(\"del_test(test_collection)\", globals=globals())\n",
        "plt_x = []\n",
        "plt_list = []\n",
        "plt_dict = []\n",
        "for i in range(100, 1000000, 100000):\n",
        "    plt_x.append(i)\n",
        "\n",
        "    test_collection = list(range(i))\n",
        "    t = time.timeit(number=1)\n",
        "    plt_list.append(t)\n",
        "\n",
        "    test_collection = dict.fromkeys(range(i))\n",
        "    \n",
        "    t = time.timeit(number=1)\n",
        "    plt_dict.append(t)\n",
        "\n",
        "plt.plot(plt_x, plt_list, plt_x, plt_dict)\n",
        "plt.legend([\"list\", \"dict\"])\n",
        "\n",
        "\n",
        "plt.show()"
      ]
    },
    {
      "cell_type": "markdown",
      "metadata": {
        "id": "ZRf6st5hkNkv"
      },
      "source": []
    },
    {
      "cell_type": "markdown",
      "source": [
        "Задание *№5*."
      ],
      "metadata": {
        "id": "NFpjWjm2izGm"
      }
    },
    {
      "cell_type": "code",
      "source": [
        "import timeit\n",
        "import matplotlib.pyplot as plt\n",
        "import random\n",
        "time_list = timeit.Timer(\"experiment_in(experiment_list)\", globals=globals())\n",
        "time_set = timeit.Timer(\"experiment_in(experiment_set)\", globals=globals())\n",
        "\n",
        "plt_x = []\n",
        "plt_list = []\n",
        "plt_set = []\n",
        "\n",
        "def experiment_in(numbers):\n",
        "    \"experiment\" in numbers\n",
        "\n",
        "for i in range(10000, 100001, 10000):\n",
        "    plt_x.append(i)\n",
        "\n",
        "    experiment_list = list(range(i))\n",
        "    tl = time_list.timeit(number=100)\n",
        "    plt_list.append(tl)\n",
        "\n",
        "    experiment_set = set(range(i))\n",
        "    ts = time_set.timeit(number=100)\n",
        "    plt_set.append(ts)\n",
        "\n",
        "plt.plot(plt_x, plt_list) \n",
        "plt.plot(plt_x, plt_set,color='red')\n",
        "plt.legend([\"list\", \"set\"])\n",
        "\n",
        "plt.show()"
      ],
      "metadata": {
        "colab": {
          "base_uri": "https://localhost:8080/",
          "height": 265
        },
        "id": "Qsk0AIDMkL3X",
        "outputId": "a9020254-1a06-447f-f6e1-5d8dbd6c5a82"
      },
      "execution_count": 40,
      "outputs": [
        {
          "output_type": "display_data",
          "data": {
            "text/plain": [
              "<Figure size 432x288 with 1 Axes>"
            ],
            "image/png": "[encoded data removed]"
          },
          "metadata": {
            "needs_background": "light"
          }
        }
      ]
    }
  ],
  "metadata": {
    "colab": {
      "collapsed_sections": [],
      "provenance": []
    },
    "kernelspec": {
      "display_name": "Python 3",
      "name": "python3"
    },
    "language_info": {
      "name": "python"
    }
  },
  "nbformat": 4,
  "nbformat_minor": 0
}