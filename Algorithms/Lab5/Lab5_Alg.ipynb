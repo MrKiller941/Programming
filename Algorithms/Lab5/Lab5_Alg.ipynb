{
 "cells": [
  {
   "cell_type": "markdown",
   "id": "9cd802d2",
   "metadata": {},
   "source": [
    "# Лабораторная работа №5."
   ]
  },
  {
   "cell_type": "markdown",
   "id": "d2b2efce",
   "metadata": {},
   "source": [
    "# Графы."
   ]
  },
  {
   "cell_type": "code",
   "execution_count": 1,
   "id": "8bb4ca03",
   "metadata": {},
   "outputs": [
    {
     "name": "stdout",
     "output_type": "stream",
     "text": [
      "{0: <__main__.Vertex object at 0x000002B1FC095720>, 1: <__main__.Vertex object at 0x000002B1FC096920>, 2: <__main__.Vertex object at 0x000002B1FC0951E0>, 3: <__main__.Vertex object at 0x000002B1FC097D60>, 4: <__main__.Vertex object at 0x000002B1FC096830>, 5: <__main__.Vertex object at 0x000002B1FC0958D0>}\n",
      "( 0, 1, 5 )\n",
      "( 0, 5, 2 )\n",
      "( 1, 2, 4 )\n",
      "( 2, 3, 9 )\n",
      "( 3, 4, 7 )\n",
      "( 3, 5, 3 )\n",
      "( 4, 0, 1 )\n",
      "( 5, 4, 8 )\n",
      "( 5, 2, 1 )\n"
     ]
    }
   ],
   "source": [
    "class Vertex:\n",
    "    def __init__(self, key, index = None): #иницализация класса\n",
    "        self.id = key\n",
    "        self.index = index\n",
    "        self.connectedTo = {}\n",
    "\n",
    "    def addNeighbor(self, nbr, weight=0): #добавить соседей\n",
    "        self.connectedTo[nbr] = weight\n",
    "\n",
    "    def __str__(self): #перевод в строку\n",
    "        return str(self.id) + ' connectedTo: ' + str([x.id for x in self.connectedTo])\n",
    "\n",
    "    def getConnections(self):# добавить связи\n",
    "        return self.connectedTo.keys()\n",
    "\n",
    "    def getId(self):#получить ключ для id\n",
    "        return self.id\n",
    "\n",
    "    def getWeight(self, nbr):# получить веса\n",
    "        return self.connectedTo[nbr]\n",
    "\n",
    "    def getIndex(self):# получить индекс\n",
    "        return self.index;\n",
    "\n",
    "class Graph:\n",
    "    def __init__(self):# иницилизация класса\n",
    "        self.vertList = {}\n",
    "        self.numVertices = 0\n",
    "        self.matrix = []\n",
    "\n",
    "    def addVertex(self, key):# добавить Vertex\n",
    "        newVertex = Vertex(key, self.numVertices)\n",
    "        self.numVertices = self.numVertices + 1\n",
    "        self.vertList[key] = newVertex\n",
    "        \n",
    "        for row in self.matrix:\n",
    "            row.append(0)     \n",
    "        self.matrix.append([0] * (len(self.matrix) + 1))\n",
    "        \n",
    "        return newVertex\n",
    "    \n",
    "    def getVertexIndex(self, index):# получить Vertex по индексу\n",
    "        for i in self.getVertices():\n",
    "            if self.getVertex(i).getIndex() == index:\n",
    "                return self.getVertex(i)\n",
    "        return None\n",
    "    \n",
    "    def getVertex(self, n):# получить Vertex по его id\n",
    "        if n in self.vertList:\n",
    "            return self.vertList[n]\n",
    "        else:\n",
    "            return None\n",
    "\n",
    "    def __contains__(self, n):# проверка на содержание\n",
    "        return n in self.vertList\n",
    "\n",
    "    def addEdge(self, f, t, cost=0):# добавить ребро\n",
    "        if f not in self.vertList:\n",
    "            self.addVertex(f)\n",
    "        if t not in self.vertList:\n",
    "            self.addVertex(t)\n",
    "        self.vertList[f].addNeighbor(self.vertList[t], cost)\n",
    "        \n",
    "        findex, tindex = self.getVertex(f).getIndex(), self.getVertex(t).getIndex()\n",
    "        self.matrix[findex][tindex] = cost\n",
    "        \n",
    "\n",
    "    def getVertices(self):# получить список Vertex\n",
    "        return self.vertList.keys()\n",
    "\n",
    "    def __str__(self):# перевод в строку\n",
    "        vertex = []\n",
    "        for i in self.vertList:\n",
    "            vertex.append(str(self.getVertex(i)))\n",
    "        return str(vertex)\n",
    "    \n",
    "    def __iter__(self):# итерация\n",
    "        return iter(self.vertList.values())\n",
    "    \n",
    "    def __len__(self):# получить размерность\n",
    "        return self.numVertices\n",
    "\n",
    "g = Graph()\n",
    "for i in range(6):\n",
    "    g.addVertex(i)\n",
    "print(g.vertList)\n",
    "g.addEdge(0, 1, 5)\n",
    "g.addEdge(0, 5, 2)\n",
    "g.addEdge(1, 2, 4)\n",
    "g.addEdge(2, 3, 9)\n",
    "g.addEdge(3, 4, 7)\n",
    "g.addEdge(3, 5, 3)\n",
    "g.addEdge(4, 0, 1)\n",
    "g.addEdge(5, 4, 8)\n",
    "g.addEdge(5, 2, 1)\n",
    "for vert in g:\n",
    "    for neighbor in vert.getConnections():\n",
    "        print(\"( %s, %s, %s )\" % (vert.getId(), neighbor.getId(), vert.getWeight(neighbor)))"
   ]
  },
  {
   "cell_type": "code",
   "execution_count": 2,
   "id": "68eb2528",
   "metadata": {},
   "outputs": [
    {
     "name": "stdout",
     "output_type": "stream",
     "text": [
      "jonny is a mango seller!\n"
     ]
    },
    {
     "data": {
      "text/plain": [
       "True"
      ]
     },
     "execution_count": 2,
     "metadata": {},
     "output_type": "execute_result"
    }
   ],
   "source": [
    "from collections import deque\n",
    "\n",
    "def person_is_seller(name):\n",
    "      return name[0] == 'j'\n",
    "\n",
    "graph = {}\n",
    "graph[\"you\"] = [\"alice\", \"bob\", \"claire\"]\n",
    "graph[\"bob\"] = [\"anuj\", \"peggy\"]\n",
    "graph[\"alice\"] = [\"peggy\"]\n",
    "graph[\"claire\"] = [\"thom\", \"jonny\"]\n",
    "graph[\"anuj\"] = []\n",
    "graph[\"peggy\"] = []\n",
    "graph[\"thom\"] = []\n",
    "graph[\"jonny\"] = []\n",
    "\n",
    "def search(name):\n",
    "    search_queue = deque()\n",
    "    search_queue += graph[name]\n",
    "    searched = set()\n",
    "    while search_queue:\n",
    "        person = search_queue.popleft()\n",
    "        if person not in searched:\n",
    "            if person_is_seller(person):\n",
    "                print(person + \" is a mango seller!\")\n",
    "                return True\n",
    "            else:\n",
    "                search_queue += graph[person]\n",
    "                searched.add(person)\n",
    "    return False\n",
    "\n",
    "search(\"you\")"
   ]
  },
  {
   "cell_type": "markdown",
   "id": "45c93fdf",
   "metadata": {},
   "source": [
    "# Задание №1."
   ]
  },
  {
   "cell_type": "markdown",
   "id": "3388d89b",
   "metadata": {},
   "source": [
    "В примере алгоритма поиска в ширину из лекции (https://cloud.mail.ru/public/9yCy/LitbGAfEg) структура данных граф представлена\n",
    "словарем. Переделайте этот пример, заменив словарь на реализацию класса Graph из лекционных материалов."
   ]
  },
  {
   "cell_type": "code",
   "execution_count": 3,
   "id": "e8624ea2",
   "metadata": {},
   "outputs": [
    {
     "name": "stdout",
     "output_type": "stream",
     "text": [
      "[\"you connectedTo: ['alice', 'bob', 'claire']\", \"bob connectedTo: ['anuj', 'peggy']\", \"alice connectedTo: ['peggy']\", \"claire connectedTo: ['thom', 'jonny']\", 'anuj connectedTo: []', 'peggy connectedTo: []', 'thom connectedTo: []', \"jonny connectedTo: ['you']\"]\n"
     ]
    }
   ],
   "source": [
    "def person_is_seller(name):# сравнение по первой букве\n",
    "    return name[0] == 'q'\n",
    "\n",
    "def Mysearch(name, searched = set()):# поиск друзей\n",
    "    search_key = g.getVertex(name)\n",
    "    for person in search_key.getConnections():\n",
    "        if person not in searched:\n",
    "            if person_is_seller(person.getId()):\n",
    "                print(person.getId() + \" is a mango seller!\")\n",
    "                return True\n",
    "            else:\n",
    "                searched.add(person)\n",
    "                if Mysearch(person.getId(), searched):\n",
    "                     return True\n",
    "    return False\n",
    "\n",
    "g = Graph()\n",
    "for i in [\"you\", \"bob\", \"alice\", \"claire\", \"anuj\", \"peggy\", \"thom\", \"jonny\"]:# создание граффа\n",
    "    g.addVertex(i)\n",
    "g.addEdge(\"you\", \"alice\")\n",
    "g.addEdge(\"you\", \"bob\")\n",
    "g.addEdge(\"you\", \"claire\")\n",
    "g.addEdge(\"bob\", \"anuj\")\n",
    "g.addEdge(\"bob\", \"peggy\")\n",
    "g.addEdge(\"alice\", \"peggy\")\n",
    "g.addEdge(\"claire\", \"thom\")\n",
    "g.addEdge(\"claire\", \"jonny\")\n",
    "g.addEdge(\"jonny\", \"you\")\n",
    "\n",
    "print(g)"
   ]
  },
  {
   "cell_type": "markdown",
   "id": "f26db1c9",
   "metadata": {},
   "source": [
    "# Задание №2."
   ]
  },
  {
   "cell_type": "markdown",
   "id": "07860529",
   "metadata": {},
   "source": [
    "Реализуйте программу, которая по заданному в виде списка смежности графу строит обращённый граф (тоже в виде списка смежности). \n",
    "Обращённый граф получается изменением направления всех рёбер исходного графа. Используйте класс Graph из лекционных материалов."
   ]
  },
  {
   "cell_type": "code",
   "execution_count": 4,
   "id": "f9df8ff5",
   "metadata": {},
   "outputs": [],
   "source": [
    "def reverse_graph(graph):# функция обращенного графа.\n",
    "    newGraph = Graph()\n",
    "    for i in graph:\n",
    "        for j in i.getConnections():\n",
    "            newGraph.addEdge(j.getId(), i.getId())\n",
    "    return newGraph"
   ]
  },
  {
   "cell_type": "code",
   "execution_count": 5,
   "id": "7f4195f8",
   "metadata": {},
   "outputs": [
    {
     "name": "stdout",
     "output_type": "stream",
     "text": [
      "['0 connectedTo: [1, 2]', '1 connectedTo: [3]', '2 connectedTo: [1]', '3 connectedTo: [0]']\n",
      "['1 connectedTo: [0, 2]', '0 connectedTo: [3]', '2 connectedTo: [0]', '3 connectedTo: [1]']\n"
     ]
    }
   ],
   "source": [
    "g = Graph()\n",
    "for i in [[0, 1, 2], [2, 1], [1, 3], [3, 0]]:# создание обращённого графа.\n",
    "    for j in  i[1:]:\n",
    "        g.addEdge(i[0], j)\n",
    "        \n",
    "print(g)\n",
    "print(reverse_graph(g))"
   ]
  },
  {
   "cell_type": "markdown",
   "id": "b40118b8",
   "metadata": {},
   "source": [
    "# Задание №3."
   ]
  },
  {
   "cell_type": "markdown",
   "id": "d8a7455f",
   "metadata": {},
   "source": [
    "Напишите программу, которая при помощи поиска в глубину (Depth-first search, DFS) проведет топологическую сортировку представленного графа и выдаст вариант корректной\n",
    "последовательности шагов.\n",
    "Используйте класс Graph из лекционных материалов."
   ]
  },
  {
   "cell_type": "code",
   "execution_count": 6,
   "id": "8e36102b",
   "metadata": {},
   "outputs": [],
   "source": [
    "def depth_first_search(graph, start, end, searched = None):# Поиск в глубину от начала до конца граффа\n",
    "    if not searched:\n",
    "        searched = set()\n",
    "    global Number\n",
    "    if start == end: return True\n",
    "    if start in searched: return False\n",
    "\n",
    "    searched.add(start)\n",
    "\n",
    "    for newstart in graph.getVertex(start).getConnections():\n",
    "        if newstart not in searched:\n",
    "            Number += 1\n",
    "            search = depth_first_search(graph, newstart.getId(), end, searched)\n",
    "            if search: return True\n",
    "    return False"
   ]
  },
  {
   "cell_type": "code",
   "execution_count": 7,
   "id": "b95ab4ca",
   "metadata": {},
   "outputs": [
    {
     "name": "stdout",
     "output_type": "stream",
     "text": [
      "[\"milk connectedTo: ['mix']\", \"mix connectedTo: ['cup', 'syrup']\", \"egg connectedTo: ['mix']\", \"oil connectedTo: ['mix']\", \"cup connectedTo: ['turn']\", \"syrup connectedTo: ['eat']\", 'eat connectedTo: []', \"griddle connectedTo: ['cup']\", \"turn connectedTo: ['eat']\"]\n",
      "[('milk', 4), ('egg', 4), ('oil', 4), ('mix', 3), ('griddle', 3), ('cup', 2), ('syrup', 1), ('turn', 1), ('eat', 0)]\n"
     ]
    }
   ],
   "source": [
    "g = Graph()\n",
    "for i in [[\"milk\", \"mix\"], [\"egg\", \"mix\"], [\"oil\", \"mix\"], [\"mix\", \"cup\"], \\\n",
    "          [\"mix\", \"syrup\"], [\"syrup\", \"eat\"],[\"griddle\", \"cup\"], [\"cup\", \"turn\"], [\"turn\", \"eat\"]]:\n",
    "    for j in  i[1:]:\n",
    "        g.addEdge(i[0], j)\n",
    "print(g)\n",
    "\n",
    "GraphSort = {}\n",
    "for i in g:\n",
    "    Number = 0\n",
    "    depth_first_search(g, i.getId(), \"eat\")\n",
    "    GraphSort[i.getId()] = Number\n",
    "print(sorted(GraphSort.items(), key=lambda x:x[1], reverse=True))"
   ]
  },
  {
   "cell_type": "markdown",
   "id": "9513f837",
   "metadata": {},
   "source": [
    "# Задание №4.\n",
    "Вариант №1."
   ]
  },
  {
   "cell_type": "code",
   "execution_count": 10,
   "id": "2a6a14e2",
   "metadata": {},
   "outputs": [
    {
     "name": "stdout",
     "output_type": "stream",
     "text": [
      "Лучший маршрут: Киселёвск -> Кемерово\n",
      "Расстояние: 176\n"
     ]
    }
   ],
   "source": [
    "def road_of_cities(graph: Graph, start_node: Vertex):\n",
    "    unvisited_nodes = list(graph.getVertices())\n",
    "    shortest_path = {}\n",
    "    prev_nodes = {}\n",
    "    infinity = float(\"inf\")\n",
    "    for node in unvisited_nodes:\n",
    "        shortest_path[node] = infinity\n",
    "    shortest_path[start_node.getId()] = 0\n",
    "    \n",
    "    while unvisited_nodes:\n",
    "        current_min_node = None\n",
    "        for node in unvisited_nodes:\n",
    "            if current_min_node == None:\n",
    "                current_min_node = node\n",
    "            elif shortest_path[node] < shortest_path[current_min_node]:\n",
    "                current_min_node = node\n",
    "\n",
    "        neighbors = []\n",
    "        for neighbor in graph.getVertex(current_min_node).getConnections():\n",
    "            neighbors.append(neighbor.getId())\n",
    "        for neighbor in neighbors:\n",
    "            nbr = graph.getVertex(neighbor)\n",
    "\n",
    "            tentative_value = shortest_path[current_min_node] + graph.getVertex(current_min_node).getWeight(nbr)\n",
    "            if tentative_value < shortest_path[neighbor]:\n",
    "                shortest_path[neighbor] = tentative_value\n",
    "                prev_nodes[neighbor] = current_min_node\n",
    "        unvisited_nodes.remove(current_min_node)\n",
    "    return prev_nodes, shortest_path\n",
    "\n",
    "def print_path(prev_nodes: dict, shortest_path: dict, start_node: str, end_node: str):\n",
    "    path = []\n",
    "    node = end_node\n",
    "    while node != start_node:\n",
    "        path.append(node)\n",
    "        try:\n",
    "            node = prev_nodes[node]\n",
    "        except:\n",
    "            print(\"Нет такого маршрута\")\n",
    "            return\n",
    "\n",
    "    path.append(start_node)\n",
    "    path.reverse()\n",
    "    print(\"Быстрый маршрут:\", end=\" \")\n",
    "    print(\" -> \".join(path))\n",
    "    print(\"Расстояние до города:\", shortest_path[end_node])\n",
    "\n",
    "graph = Graph()\n",
    "graph.addEdge(\"Белово\", \"Ленинск-Кузнецкий\", 39) # Расстояние берется на автомобиле.\n",
    "graph.addEdge(\"Ленинск-Кузнецкий\", \"Киселёвск\", 93)\n",
    "graph.addEdge(\"Белово\", \"Киселёвск\", 67)\n",
    "graph.addEdge(\"Белово\", \"Гурьевск\", 34)\n",
    "graph.addEdge(\"Гурьевск\", \"Киселёвск\", 134) # самый длинный маршрут, если ехать по трассе Кузбасс - Алтай и Р384.\n",
    "graph.addEdge(\"Ленинск-Кузнецкий\", \"Мыски\", 203)\n",
    "graph.addEdge(\"Киселёвск\", \"Кемерово\", 176)\n",
    "graph.addEdge(\"Кемерово\", \"Новосибирск\", 265) # самый короткий маршрут, если ехать по трассе а/д Байкал/Р-255.\n",
    "graph.addEdge(\"Мыски\", \"Новосибирск\", 439)\n",
    "\n",
    "start = graph.getVertex(\"Киселёвск\")\n",
    "end = graph.getVertex(\"Кемерово\")\n",
    "\n",
    "prev_nodes, shortest_path = road_of_cities(graph, start)\n",
    "print_path(prev_nodes, shortest_path, start.getId(), end.getId())"
   ]
  },
  {
   "cell_type": "code",
   "execution_count": null,
   "id": "4cbc7a69",
   "metadata": {},
   "outputs": [],
   "source": []
  }
 ],
 "metadata": {
  "kernelspec": {
   "display_name": "Python 3 (ipykernel)",
   "language": "python",
   "name": "python3"
  },
  "language_info": {
   "codemirror_mode": {
    "name": "ipython",
    "version": 3
   },
   "file_extension": ".py",
   "mimetype": "text/x-python",
   "name": "python",
   "nbconvert_exporter": "python",
   "pygments_lexer": "ipython3",
   "version": "3.10.2"
  }
 },
 "nbformat": 4,
 "nbformat_minor": 5
}
