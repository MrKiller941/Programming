{
 "cells": [
  {
   "cell_type": "markdown",
   "id": "b8f8821b",
   "metadata": {},
   "source": [
    "# Лабораторная работа №5."
   ]
  },
  {
   "cell_type": "markdown",
   "id": "b9746d16",
   "metadata": {},
   "source": [
    "# Задание №1."
   ]
  },
  {
   "cell_type": "raw",
   "id": "ca2c080d",
   "metadata": {},
   "source": [
    "1) Установим необходимые библиотеки и вызовем их:"
   ]
  },
  {
   "cell_type": "code",
   "execution_count": 1,
   "id": "e560a4d4",
   "metadata": {},
   "outputs": [],
   "source": [
    "import math\n",
    "import statistics\n",
    "import numpy as np\n",
    "import scipy.stats\n",
    "import pandas as pd"
   ]
  },
  {
   "cell_type": "raw",
   "id": "c79e6fde",
   "metadata": {},
   "source": [
    "2) Создадим списки x и x_with_nan:"
   ]
  },
  {
   "cell_type": "code",
   "execution_count": 2,
   "id": "03240910",
   "metadata": {},
   "outputs": [
    {
     "name": "stdout",
     "output_type": "stream",
     "text": [
      "Вывод исходных данных, которые содержатся в x:[10.0, 2, 2.5, 5, 26.0]\n",
      "Вывод исходных данных, которые содержатся в x_with_nan:[10.0, 2, 2.5, nan, 5, 26.0]\n"
     ]
    }
   ],
   "source": [
    "import math\n",
    "x = [10.0, 2, 2.5, 5, 26.0]\n",
    "x_with_nan = [10.0, 2, 2.5, math.nan, 5, 26.0]\n",
    "print(f'Вывод исходных данных, которые содержатся в x:{x}')\n",
    "print(f'Вывод исходных данных, которые содержатся в x_with_nan:{x_with_nan}')"
   ]
  },
  {
   "cell_type": "raw",
   "id": "81e7f9e0",
   "metadata": {},
   "source": [
    "3) Создадим объекты np.ndarray и pd.Series, соответствующие x и x_with_nan:"
   ]
  },
  {
   "cell_type": "code",
   "execution_count": 3,
   "id": "e5c2e5a4",
   "metadata": {},
   "outputs": [
    {
     "name": "stdout",
     "output_type": "stream",
     "text": [
      "Вывод данных, которые содержатся в y и y_with_nan:[10.   2.   2.5  5.  26. ], [10.   2.   2.5  nan  5.  26. ]\n",
      "Вывод данных, которые содержатся в z и в z_with_nan: 0    10.0\n",
      "1     2.0\n",
      "2     2.5\n",
      "3     5.0\n",
      "4    26.0\n",
      "dtype: float64, 0    10.0\n",
      "1     2.0\n",
      "2     2.5\n",
      "3     NaN\n",
      "4     5.0\n",
      "5    26.0\n",
      "dtype: float64\n"
     ]
    }
   ],
   "source": [
    "import numpy as np\n",
    "import pandas as pd\n",
    "y, y_with_nan = np.array(x), np.array(x_with_nan)\n",
    "z, z_with_nan = pd.Series(x), pd.Series(x_with_nan)\n",
    "print(f'Вывод данных, которые содержатся в y и y_with_nan:{y}, {y_with_nan}')\n",
    "print(f'Вывод данных, которые содержатся в z и в z_with_nan: {z}, {z_with_nan}')"
   ]
  },
  {
   "cell_type": "raw",
   "id": "8f27f891",
   "metadata": {},
   "source": [
    "4) После формирования исходных данных, приступаем к расчету центральной метрики, а именно среднего значения:"
   ]
  },
  {
   "cell_type": "code",
   "execution_count": 4,
   "id": "94ec659e",
   "metadata": {},
   "outputs": [
    {
     "name": "stdout",
     "output_type": "stream",
     "text": [
      "Расчет среднего значения, используя sum и len: 9.1\n",
      "Расчет среднего значения, используя встроенные функции статистики Python (statistics.mean(x)): 9.1\n",
      "Расчет среднего значения, используя встроенные функции статистики Python (statistics.mean(x)): 9.1\n",
      "Расчет среднего значения, который содержит значения nan, используя встроенные функции статистики Python (statistics.mean(x)): nan\n",
      "Расчет среднего значения, используя NumPy: 9.1\n",
      "Расчет среднего значения с помощью NumPy, игнорируя nan: 9.1\n",
      "Расчет среднего значения объекта pd.Series: 9.1\n"
     ]
    }
   ],
   "source": [
    "#Расчет средних значений\n",
    "mean_1 = sum(x) / len(x)\n",
    "print(f'Расчет среднего значения, используя sum и len: {mean_1}')\n",
    "mean_2 = statistics.mean(x)\n",
    "print(f'Расчет среднего значения, используя встроенные функции статистики Python (statistics.mean(x)): {mean_2}')\n",
    "mean_3 = statistics.mean(x)\n",
    "print(f'Расчет среднего значения, используя встроенные функции статистики Python (statistics.mean(x)): {mean_3}')\n",
    "mean_4 = statistics.mean(x_with_nan)\n",
    "print(f'Расчет среднего значения, который содержит значения nan, используя встроенные функции статистики Python (statistics.mean(x)): {mean_4}')\n",
    "mean_5 = np.mean(y)\n",
    "print(f'Расчет среднего значения, используя NumPy: {mean_5}')\n",
    "np.nanmean(y_with_nan)\n",
    "print(f'Расчет среднего значения с помощью NumPy, игнорируя nan: {np.nanmean(y_with_nan)}')\n",
    "mean_6 = z.mean()\n",
    "print(f'Расчет среднего значения объекта pd.Series: {mean_6}')"
   ]
  },
  {
   "cell_type": "raw",
   "id": "052817be",
   "metadata": {},
   "source": [
    "5) Рассчитаем средневзвешенное значение. Средневзвешенное или также называемое средневзвешенным арифметическим или средневзвешенным\n",
    "значением, является обобщением среднего арифметического, которое позволяет вам определить относительный вклад каждой точки данных в результат:"
   ]
  },
  {
   "cell_type": "code",
   "execution_count": 5,
   "id": "0510246c",
   "metadata": {},
   "outputs": [
    {
     "name": "stdout",
     "output_type": "stream",
     "text": [
      "Расчет средневзвешанного с помощью range: 6.8\n",
      "Расчет средневзвешанного с помощью zip: 6.8\n",
      "Расчет средневзвешанного с помощью np.average для массивово NumPy или серии Pandas: 6.8\n",
      "Расчет средневзвешанного с помощью поэлементного умножения w * y: 6.8\n",
      "Расчет средневзвешанного для набора, который содержит nan: nan\n"
     ]
    }
   ],
   "source": [
    "#Расчет средневзвешанных значений\n",
    "x = [6.0, 1, 2.5, 6, 25.0]\n",
    "w = [0.1, 0.2, 0.3, 0.25, 0.15]\n",
    "wmean = sum(w[i] * x[i] for i in range(len(x))) / sum(w)\n",
    "print(f'Расчет средневзвешанного с помощью range: {wmean}')\n",
    "wmean2 = sum(x_ * w_ for (x_, w_) in zip(x, w)) / sum(w)\n",
    "print(f'Расчет средневзвешанного с помощью zip: {wmean2}')\n",
    "y, z, w = np.array(x), pd.Series(x), np.array(w)\n",
    "wmean3= np.average(y, weights=w)\n",
    "print(f'Расчет средневзвешанного с помощью np.average для массивово NumPy или серии Pandas: {wmean3}')\n",
    "o = (w * y).sum() / w.sum()\n",
    "print(f'Расчет средневзвешанного с помощью поэлементного умножения w * y: {o}')\n",
    "w = np.array([0.1, 0.2, 0.3, 0.0, 0.2, 0.1])\n",
    "print(f'Расчет средневзвешанного для набора, который содержит nan: {(w * y_with_nan).sum() / w.sum()}')\n"
   ]
  },
  {
   "cell_type": "raw",
   "id": "86fc5822",
   "metadata": {},
   "source": [
    "6) Рассчитаем гармоническое среднее, что есть обратная величина от\n",
    "среднего значения обратных величин всех элементов в наборе данных:"
   ]
  },
  {
   "cell_type": "code",
   "execution_count": 6,
   "id": "038a6275",
   "metadata": {},
   "outputs": [
    {
     "name": "stdout",
     "output_type": "stream",
     "text": [
      "Расчет гармонического среднего: 2.8195488721804507\n",
      "Расчет гармонического среднего с помощью statistics.harmonic_mean(): 2.819548872180451\n",
      "Расчет гармонического среднего, где есть nan: nan\n",
      "Расчет гармонического среднего, где есть 0: 0\n",
      "Расчет гармонического среднего с помощью scipy.stats.hmean(): 2.8195488721804507\n"
     ]
    }
   ],
   "source": [
    "#Гармоническое среднее\n",
    "hmean = len(x) / sum(1 / item for item in x)\n",
    "print(f'Расчет гармонического среднего: {hmean}')\n",
    "hmean2 = statistics.harmonic_mean(x)\n",
    "print(f'Расчет гармонического среднего с помощью statistics.harmonic_mean(): {hmean2}')\n",
    "statistics.harmonic_mean(x_with_nan)\n",
    "print(f'Расчет гармонического среднего, где есть nan: {statistics.harmonic_mean(x_with_nan)}')\n",
    "statistics.harmonic_mean([1, 0, 2])\n",
    "print(f'Расчет гармонического среднего, где есть 0: {statistics.harmonic_mean([1, 0, 2])}')\n",
    "scipy.stats.hmean(y)\n",
    "print(f'Расчет гармонического среднего с помощью scipy.stats.hmean(): {scipy.stats.hmean(y)}')"
   ]
  },
  {
   "cell_type": "raw",
   "id": "4a4bef78",
   "metadata": {},
   "source": [
    "7) Рассчитаем среднее геометрическое:"
   ]
  },
  {
   "cell_type": "code",
   "execution_count": 7,
   "id": "8bffdf3c",
   "metadata": {},
   "outputs": [
    {
     "name": "stdout",
     "output_type": "stream",
     "text": [
      "Вычисление геометрического среднего: 2.0613255209172676\n",
      "Вычисление геометрического среднего с помощью statistics.geometric_mean(): 4.682054920046206\n",
      "Вычисление геометрического среднего где есть nan: nan\n",
      "Вычисление геометрического среднего с помощью scipy.stats.gmean(): 4.682054920046206\n"
     ]
    }
   ],
   "source": [
    "#Среднее геометрическое\n",
    "gmean = 1\n",
    "for item in x:\n",
    "   gmean *= item\n",
    "   gmean **= 1 / len(x)\n",
    "print(f'Вычисление геометрического среднего: {gmean}')\n",
    "gmean2 = statistics.geometric_mean(x)\n",
    "print(f'Вычисление геометрического среднего с помощью statistics.geometric_mean(): {gmean2}')\n",
    "gmean3 = statistics.geometric_mean(x_with_nan)\n",
    "print(f'Вычисление геометрического среднего где есть nan: {gmean3}')\n",
    "scipy.stats.gmean(y)\n",
    "print(f'Вычисление геометрического среднего с помощью scipy.stats.gmean(): {scipy.stats.gmean(y)}')"
   ]
  },
  {
   "cell_type": "raw",
   "id": "9a1db31d",
   "metadata": {},
   "source": [
    "8) Медиана – это средний элемент отсортированного набора данных.\n",
    "Расчет медианы представлен в следующем программном коде:"
   ]
  },
  {
   "cell_type": "code",
   "execution_count": 8,
   "id": "6deacb68",
   "metadata": {},
   "outputs": [
    {
     "name": "stdout",
     "output_type": "stream",
     "text": [
      "Расчет медианы: 6.0\n",
      "Расчет медианы с помощью statistics.median(): 6.0\n",
      "Расчет медианы с помощью statistics.median_low: 2.5\n",
      "Расчет медианы с помощью statistics.median_high 6.0\n",
      "Расчет медианы с помощью np.median: 6.0\n"
     ]
    }
   ],
   "source": [
    "n = len(x)\n",
    "if n % 2:\n",
    "    median_ = sorted(x)[round(0.5*(n-1))]\n",
    "else:\n",
    "    x_ord, index = sorted(x), round(0.5 * n)\n",
    "    median_ = 0.5 * (x_ord[index-1] + x_ord[index])\n",
    "print(f'Расчет медианы: {median_}')\n",
    "median_2 = statistics.median(x)\n",
    "print(f'Расчет медианы с помощью statistics.median(): {median_2}')\n",
    "statistics.median_low(x[:-1])\n",
    "print(f'Расчет медианы с помощью statistics.median_low: {statistics.median_low(x[:-1])}')\n",
    "statistics.median_high(x[:-1])\n",
    "print(f'Расчет медианы с помощью statistics.median_high {statistics.median_high(x[:-1])}')\n",
    "median_2 = np.median(y)\n",
    "print(f'Расчет медианы с помощью np.median: {median_2}')"
   ]
  },
  {
   "cell_type": "raw",
   "id": "c8a9d28d",
   "metadata": {},
   "source": [
    "9) Мода – это значение в наборе данных, которое встречается чаще всего.\n",
    "Если такого значения не существует, набор является мультимодальным,\n",
    "поскольку он имеет несколько модальных значений. Расчет моды представлен в\n",
    "программном коде:"
   ]
  },
  {
   "cell_type": "code",
   "execution_count": 9,
   "id": "7525eb31",
   "metadata": {},
   "outputs": [
    {
     "name": "stdout",
     "output_type": "stream",
     "text": [
      "Вычисление моды: 2\n",
      "Вычисление моды с помощью statistics.mode(): 2\n",
      "Вычисление моды с помощью statistics.multimode(): [2]\n",
      "Вычисление моды с помощью scipy.stats.mode(): ModeResult(mode=array([2]), count=array([2]))\n"
     ]
    },
    {
     "name": "stderr",
     "output_type": "stream",
     "text": [
      "C:\\Users\\sobol\\AppData\\Local\\Temp\\ipykernel_11780\\1410363380.py:8: FutureWarning: Unlike other reduction functions (e.g. `skew`, `kurtosis`), the default behavior of `mode` typically preserves the axis it acts along. In SciPy 1.11.0, this behavior will change: the default value of `keepdims` will become False, the `axis` over which the statistic is taken will be eliminated, and the value None will no longer be accepted. Set `keepdims` to True or False to avoid this warning.\n",
      "  mode_4 = scipy.stats.mode(u)\n"
     ]
    }
   ],
   "source": [
    "u = [2, 3, 2, 8, 12]\n",
    "mode_ = max((u.count(item), item) for item in set(u))[1]\n",
    "print(f'Вычисление моды: {mode_}')\n",
    "mode_2 = statistics.mode(u)\n",
    "print(f'Вычисление моды с помощью statistics.mode(): {mode_2}')\n",
    "mode_3 = statistics.multimode(u)\n",
    "print(f'Вычисление моды с помощью statistics.multimode(): {mode_3}')\n",
    "mode_4 = scipy.stats.mode(u)\n",
    "print(f'Вычисление моды с помощью scipy.stats.mode(): {mode_4}')"
   ]
  },
  {
   "cell_type": "raw",
   "id": "8d5648d1",
   "metadata": {},
   "source": [
    "10) Центральных метрик недостаточно для описания данных. Практически\n",
    "всегда необходимы метрики оценки вариативности данных, которые\n",
    "количественно определяют разброс точек данных. И первым показателем\n",
    "метрики оценки вариативности данных является дисперсия. Дисперсия\n",
    "количественно определяет разброс данных и численно показывает, как далеко\n",
    "расположены точки данных от среднего значения. Расчет дисперсии:"
   ]
  },
  {
   "cell_type": "code",
   "execution_count": 10,
   "id": "563fe717",
   "metadata": {},
   "outputs": [
    {
     "name": "stdout",
     "output_type": "stream",
     "text": [
      "Оценка дисперсии на чистом Python: 94.04999999999998\n",
      "Оценка дисперсии с помощью statistics.variance(): 94.05\n"
     ]
    },
    {
     "ename": "ValueError",
     "evalue": "cannot convert NaN to integer ratio",
     "output_type": "error",
     "traceback": [
      "\u001b[1;31m---------------------------------------------------------------------------\u001b[0m",
      "\u001b[1;31mValueError\u001b[0m                                Traceback (most recent call last)",
      "Cell \u001b[1;32mIn [10], line 7\u001b[0m\n\u001b[0;32m      5\u001b[0m var_1\u001b[38;5;241m=\u001b[39m statistics\u001b[38;5;241m.\u001b[39mvariance(x)\n\u001b[0;32m      6\u001b[0m \u001b[38;5;28mprint\u001b[39m(\u001b[38;5;124mf\u001b[39m\u001b[38;5;124m'\u001b[39m\u001b[38;5;124mОценка дисперсии с помощью statistics.variance(): \u001b[39m\u001b[38;5;132;01m{\u001b[39;00mvar_1\u001b[38;5;132;01m}\u001b[39;00m\u001b[38;5;124m'\u001b[39m)\n\u001b[1;32m----> 7\u001b[0m statistics\u001b[38;5;241m.\u001b[39mvariance(x_with_nan)\n\u001b[0;32m      8\u001b[0m \u001b[38;5;28mprint\u001b[39m(\u001b[38;5;124mf\u001b[39m\u001b[38;5;124m'\u001b[39m\u001b[38;5;124mОценка дисперсии с помощью statistics.variance(), где есть nan: \u001b[39m\u001b[38;5;132;01m{\u001b[39;00mstatistics\u001b[38;5;241m.\u001b[39mvariance(x_with_nan)\u001b[38;5;132;01m}\u001b[39;00m\u001b[38;5;124m'\u001b[39m)\n\u001b[0;32m      9\u001b[0m var_2 \u001b[38;5;241m=\u001b[39m np\u001b[38;5;241m.\u001b[39mvar(y, ddof\u001b[38;5;241m=\u001b[39m\u001b[38;5;241m1\u001b[39m)\n",
      "File \u001b[1;32m~\\AppData\\Local\\Programs\\Python\\Python310\\lib\\statistics.py:768\u001b[0m, in \u001b[0;36mvariance\u001b[1;34m(data, xbar)\u001b[0m\n\u001b[0;32m    766\u001b[0m \u001b[38;5;28;01mif\u001b[39;00m n \u001b[38;5;241m<\u001b[39m \u001b[38;5;241m2\u001b[39m:\n\u001b[0;32m    767\u001b[0m     \u001b[38;5;28;01mraise\u001b[39;00m StatisticsError(\u001b[38;5;124m'\u001b[39m\u001b[38;5;124mvariance requires at least two data points\u001b[39m\u001b[38;5;124m'\u001b[39m)\n\u001b[1;32m--> 768\u001b[0m T, ss \u001b[38;5;241m=\u001b[39m \u001b[43m_ss\u001b[49m\u001b[43m(\u001b[49m\u001b[43mdata\u001b[49m\u001b[43m,\u001b[49m\u001b[43m \u001b[49m\u001b[43mxbar\u001b[49m\u001b[43m)\u001b[49m\n\u001b[0;32m    769\u001b[0m \u001b[38;5;28;01mreturn\u001b[39;00m _convert(ss \u001b[38;5;241m/\u001b[39m (n \u001b[38;5;241m-\u001b[39m \u001b[38;5;241m1\u001b[39m), T)\n",
      "File \u001b[1;32m~\\AppData\\Local\\Programs\\Python\\Python310\\lib\\statistics.py:709\u001b[0m, in \u001b[0;36m_ss\u001b[1;34m(data, c)\u001b[0m\n\u001b[0;32m    707\u001b[0m     \u001b[38;5;28;01mreturn\u001b[39;00m (T, total)\n\u001b[0;32m    708\u001b[0m T, total, count \u001b[38;5;241m=\u001b[39m _sum(data)\n\u001b[1;32m--> 709\u001b[0m mean_n, mean_d \u001b[38;5;241m=\u001b[39m \u001b[43m(\u001b[49m\u001b[43mtotal\u001b[49m\u001b[43m \u001b[49m\u001b[38;5;241;43m/\u001b[39;49m\u001b[43m \u001b[49m\u001b[43mcount\u001b[49m\u001b[43m)\u001b[49m\u001b[38;5;241;43m.\u001b[39;49m\u001b[43mas_integer_ratio\u001b[49m\u001b[43m(\u001b[49m\u001b[43m)\u001b[49m\n\u001b[0;32m    710\u001b[0m partials \u001b[38;5;241m=\u001b[39m Counter()\n\u001b[0;32m    711\u001b[0m \u001b[38;5;28;01mfor\u001b[39;00m n, d \u001b[38;5;129;01min\u001b[39;00m \u001b[38;5;28mmap\u001b[39m(_exact_ratio, data):\n",
      "\u001b[1;31mValueError\u001b[0m: cannot convert NaN to integer ratio"
     ]
    }
   ],
   "source": [
    "n = len(x)\n",
    "mean = sum(x) / n\n",
    "var_ = sum((item - mean)**2 for item in x) / (n - 1)\n",
    "print(f'Оценка дисперсии на чистом Python: {var_}')\n",
    "var_1= statistics.variance(x)\n",
    "print(f'Оценка дисперсии с помощью statistics.variance(): {var_1}')\n",
    "statistics.variance(x_with_nan)\n",
    "print(f'Оценка дисперсии с помощью statistics.variance(), где есть nan: {statistics.variance(x_with_nan)}')\n",
    "var_2 = np.var(y, ddof=1)\n",
    "print(f'Оценка дисперсии, используя NumPy с помощью np.var(): {var_2}')\n",
    "var_3 = y.var(ddof=1)\n",
    "print(f'Оценка дисперсии, используя NumPy с помощью метода .var(): {var_3}')"
   ]
  },
  {
   "cell_type": "raw",
   "id": "fe467e3f",
   "metadata": {},
   "source": [
    "11) Рассчитаем среднеквадратичное отклонение. Стандартное отклонение\n",
    "выборки является еще одним показателем разброса данных. Он связан с\n",
    "оценкой дисперсии, поскольку стандартное отклонение есть положительным\n",
    "квадратный корень из оценки дисперсии. Стандартное отклонение часто более\n",
    "удобно, чем дисперсия, потому что имеет ту же размерность, что и данные.\n",
    "Расчет среднеквадратичного отклонения:"
   ]
  },
  {
   "cell_type": "code",
   "execution_count": null,
   "id": "8ac381b3",
   "metadata": {},
   "outputs": [],
   "source": [
    "#Среднеквадратичное отклонение\n",
    "std_ = var_ ** 0.5\n",
    "print(f'Расчет среднеквадратичного отклонения на чистом Python: {std_}')\n",
    "std_2 = statistics.stdev(x)\n",
    "print(f'Расчет среднеквадратичного отклонения с помощью statistics.stdev(): {std_2}')\n",
    "np.std(y, ddof=1)\n",
    "print(f'Расчет среднеквадратичного отклонения с помощью NumPy: {np.std(y, ddof=1)}')"
   ]
  },
  {
   "cell_type": "raw",
   "id": "e712654b",
   "metadata": {},
   "source": [
    "12) Найдем смещение:"
   ]
  },
  {
   "cell_type": "code",
   "execution_count": null,
   "id": "b8428bc3",
   "metadata": {},
   "outputs": [],
   "source": [
    "#Смещение\n",
    "x = [8.0, 1, 2.5, 4, 28.0]\n",
    "n = len(x)\n",
    "mean_ = sum(x) / n\n",
    "var_ = sum((item - mean_)**2 for item in x) / (n - 1)\n",
    "std_ = var_ ** 0.5\n",
    "skew_ = (sum((item - mean_)**3 for item in x)\n",
    "* n / ((n - 1) * (n - 2) * std_**3))\n",
    "print(f'Расчет смещения на чистом Python: {skew_}')\n",
    "z, z_with_nan = pd.Series(x), pd.Series(x_with_nan)\n",
    "print(f'Расчет смещения с помощью Pandas: {z.skew()}')"
   ]
  },
  {
   "cell_type": "raw",
   "id": "105f1f1c",
   "metadata": {},
   "source": [
    "13) Процентиль – такой элемент в наборе данных, что p элементов в этом\n",
    "наборе данных меньше или равно его значению. Кроме того, (100 – p)\n",
    "элементов больше или равно этому значению. Если в наборе данных есть два\n",
    "таких элемента, то процентиль является их средним арифметическим.\n",
    "Расчитаем процентиль:"
   ]
  },
  {
   "cell_type": "code",
   "execution_count": null,
   "id": "5ad64010",
   "metadata": {},
   "outputs": [],
   "source": [
    "#Процентили\n",
    "x = [-5.0, -1.1, 0.1, 2.0, 8.0, 12.8, 21.0, 25.8, 41.0]\n",
    "print(f'Расчет процентилей с помощью statistics.quantiles():{statistics.quantiles(x, n=2)}')\n",
    "statistics.quantiles(x, n=4, method='inclusive')\n",
    "print(f\"Расчет процентилей с помощью statistics.quantiles():{statistics.quantiles(x, n=4, method='inclusive')}\")\n",
    "y = np.array(x)\n",
    "np.percentile(y, 5)\n",
    "print(f'Нахождение 5 процентиля : {np.percentile(y, 5)}')\n",
    "np.percentile(y, 95)\n",
    "print(f'Нахождение 95 процентиля : {np.percentile(y, 95)}')\n",
    "z, z_with_nan = pd.Series(y), pd.Series(y_with_nan)\n",
    "z.quantile(0.05)\n",
    "print(f'Нахождение процентиля используя метод .quantile(): {z.quantile(0.05)}')\n"
   ]
  },
  {
   "cell_type": "raw",
   "id": "923e5396",
   "metadata": {},
   "source": [
    "14) Диапазон данных – это разница между максимальным и\n",
    "минимальным элементом в наборе данных. Эти показатели найдем с\n",
    "использованием функции np.ptp():"
   ]
  },
  {
   "cell_type": "code",
   "execution_count": null,
   "id": "d3955a9d",
   "metadata": {},
   "outputs": [],
   "source": [
    "#Диапазон\n",
    "np.ptp(y)\n",
    "np.ptp(z)\n",
    "np.ptp(y_with_nan)\n",
    "np.ptp(z_with_nan)\n",
    "print(f'Нахождение диапазона с помощью функции np.ptp(): {np.ptp(y),np.ptp(z),np.ptp(y_with_nan),np.ptp(z_with_nan)}')\n"
   ]
  },
  {
   "cell_type": "raw",
   "id": "2ea0ab21",
   "metadata": {},
   "source": [
    "15) сводка описательной статистики:"
   ]
  },
  {
   "cell_type": "code",
   "execution_count": null,
   "id": "bdc60b2a",
   "metadata": {},
   "outputs": [],
   "source": [
    "#Сводка описательной статистики\n",
    "result = scipy.stats.describe(y, ddof=1, bias=False)\n",
    "print(f'Сводка описательной статистики с помощью scipy.stats.describe(): {result}')\n",
    "result2 = z.describe()\n",
    "print(f'Сводка описательной статистики с помощью метода .describe() в Pandas: {result2}')"
   ]
  },
  {
   "cell_type": "markdown",
   "id": "23d8d0a8",
   "metadata": {},
   "source": [
    "# Задание №2."
   ]
  },
  {
   "cell_type": "code",
   "execution_count": null,
   "id": "f5f93b43",
   "metadata": {},
   "outputs": [],
   "source": [
    "import pandas as pd\n",
    "import numpy as np\n",
    "import matplotlib.pyplot as plt\n",
    "from sklearn.preprocessing import StandardScaler,\n",
    "OneHotEncoder\n",
    "from sklearn.model_selection import train_test_split\n",
    "import seaborn as sns\n",
    "from scipy.stats import norm\n",
    "from scipy import stats\n",
    "from pandas import DataFrame\n",
    "%matplotlib inline\n"
   ]
  },
  {
   "cell_type": "raw",
   "id": "bba3e29d",
   "metadata": {},
   "source": [
    "1) Данные\n",
    "- Сколько данных в датасете?"
   ]
  },
  {
   "cell_type": "code",
   "execution_count": null,
   "id": "a55f71da",
   "metadata": {},
   "outputs": [],
   "source": [
    "pd.set_option('display.max_columns', 100)\n",
    "df = pd.read_csv('D:/Lab5/19house_train.csv')\n",
    "df.drop('Id', axis=1, inplace=True)\n",
    "df.shape[0]"
   ]
  },
  {
   "cell_type": "raw",
   "id": "398791af",
   "metadata": {},
   "source": [
    "– Сколько параметров? Выведите список всех параметров."
   ]
  },
  {
   "cell_type": "code",
   "execution_count": null,
   "id": "8ec374fb",
   "metadata": {},
   "outputs": [],
   "source": [
    "print(f'Параметров: ', df.columns.size)\n",
    "df.info(memory_usage='deep')"
   ]
  },
  {
   "cell_type": "raw",
   "id": "25122b20",
   "metadata": {},
   "source": [
    "– Есть ли категориальные признаки? Перечислите / выведите их."
   ]
  },
  {
   "cell_type": "code",
   "execution_count": null,
   "id": "584df361",
   "metadata": {},
   "outputs": [],
   "source": [
    "df.describe(include=['O']).T"
   ]
  },
  {
   "cell_type": "raw",
   "id": "7d1d4b91",
   "metadata": {},
   "source": [
    "– Выведите первые пять строчек DataFrame."
   ]
  },
  {
   "cell_type": "code",
   "execution_count": null,
   "id": "20406a42",
   "metadata": {},
   "outputs": [],
   "source": [
    "df.head()"
   ]
  },
  {
   "cell_type": "raw",
   "id": "18b545bc",
   "metadata": {},
   "source": [
    "2) Просмотреть основную информацию по датасету можно, выполнив\n",
    "инструкции"
   ]
  },
  {
   "cell_type": "code",
   "execution_count": null,
   "id": "93ce5659",
   "metadata": {},
   "outputs": [],
   "source": [
    "df.describe()"
   ]
  },
  {
   "cell_type": "raw",
   "id": "3c09547c",
   "metadata": {},
   "source": [
    "А что будет, если выполнить такую инструкцию:\n",
    "df.describe().T ?"
   ]
  },
  {
   "cell_type": "code",
   "execution_count": null,
   "id": "3972dd75",
   "metadata": {},
   "outputs": [],
   "source": [
    "df.describe().T"
   ]
  },
  {
   "cell_type": "raw",
   "id": "3b96fe06",
   "metadata": {},
   "source": [
    "-Получим статистику отдельного показателя, например, \"SalePrice\":"
   ]
  },
  {
   "cell_type": "code",
   "execution_count": null,
   "id": "4eb61810",
   "metadata": {},
   "outputs": [],
   "source": [
    "df['SalePrice'].describe()"
   ]
  },
  {
   "cell_type": "raw",
   "id": "06c9e2a7",
   "metadata": {},
   "source": [
    "а) Чему равно среднее значение?"
   ]
  },
  {
   "cell_type": "code",
   "execution_count": null,
   "id": "3bc02a5f",
   "metadata": {},
   "outputs": [],
   "source": [
    "df['SalePrice'].describe()['mean']"
   ]
  },
  {
   "cell_type": "raw",
   "id": "9510a0e7",
   "metadata": {},
   "source": [
    "б) Чему равно стандартное отклонение?"
   ]
  },
  {
   "cell_type": "code",
   "execution_count": null,
   "id": "e60011c4",
   "metadata": {},
   "outputs": [],
   "source": [
    "df['SalePrice'].describe()['std']"
   ]
  },
  {
   "cell_type": "raw",
   "id": "530bf45c",
   "metadata": {},
   "source": [
    "3) Проверьте, есть ли пропуски и повторы в данных."
   ]
  },
  {
   "cell_type": "code",
   "execution_count": null,
   "id": "8db5dc3f",
   "metadata": {},
   "outputs": [],
   "source": [
    "print(df.isna().sum())"
   ]
  },
  {
   "cell_type": "raw",
   "id": "27c97243",
   "metadata": {},
   "source": [
    "3.1) Повторяющиеся строки – дубликаты – выявляются методом\n",
    "duplicated() и подсчитываются тем же sum(). Если возвращаются нули, то\n",
    "данные пригодны для исследования:"
   ]
  },
  {
   "cell_type": "code",
   "execution_count": null,
   "id": "64cc000d",
   "metadata": {},
   "outputs": [],
   "source": [
    "print(df.duplicated().sum())"
   ]
  },
  {
   "cell_type": "raw",
   "id": "7fe20d2f",
   "metadata": {},
   "source": [
    "4) Получите список названий столбцов, запросив атрибут columns."
   ]
  },
  {
   "cell_type": "code",
   "execution_count": null,
   "id": "7431ef17",
   "metadata": {},
   "outputs": [],
   "source": [
    "print(df.columns)"
   ]
  },
  {
   "cell_type": "raw",
   "id": "626628b6",
   "metadata": {},
   "source": [
    "5) Анализ пропущенных значений и удаление"
   ]
  },
  {
   "cell_type": "raw",
   "id": "078734b6",
   "metadata": {},
   "source": [
    "а) Выясним, в каких параметрах отсутствует статистика (данные)"
   ]
  },
  {
   "cell_type": "code",
   "execution_count": null,
   "id": "2d24efb2",
   "metadata": {},
   "outputs": [],
   "source": [
    "na_count = df.isnull().sum().sort_values(ascending=False) #Вычисляем, сколько пропущенных значений в параметрах\n",
    "na_rate = na_count / len(df) \n",
    "'''Вычисляем частоту или \n",
    "вероятность, с которой пропущенное значение встречается в\n",
    "каждом параметре. Если вероятность большая (>0.5), столбцы-\n",
    "параметры можно смело удалять).\n",
    "'''\n",
    "# формируем массив для печати\n",
    "na_data = pd.concat([na_count, na_rate],axis=1,keys=['count','ratio'])\n",
    "print(na_data)"
   ]
  },
  {
   "cell_type": "code",
   "execution_count": null,
   "id": "daa9c2a2",
   "metadata": {},
   "outputs": [],
   "source": [
    "df_new = df.drop(['PoolQC', 'MiscFeature', 'Alley'], axis=1)\n",
    "print(df_new.isna().sum())"
   ]
  },
  {
   "cell_type": "code",
   "execution_count": null,
   "id": "1ebdf493",
   "metadata": {},
   "outputs": [],
   "source": [
    "df_new.shape"
   ]
  },
  {
   "cell_type": "code",
   "execution_count": null,
   "id": "6dc5ecb9",
   "metadata": {},
   "outputs": [],
   "source": [
    "df_new = df_new.drop(['GarageQual', 'GarageCond', 'Fence'], axis=1)\n",
    "print(df_new.isna().sum())"
   ]
  },
  {
   "cell_type": "code",
   "execution_count": null,
   "id": "d3e07a5e",
   "metadata": {},
   "outputs": [],
   "source": [
    "df_new=df_new.drop(['MasVnrArea', 'MasVnrType'], axis=1)\n",
    "print(df_new.isna().sum())"
   ]
  },
  {
   "cell_type": "code",
   "execution_count": null,
   "id": "23361eb0",
   "metadata": {},
   "outputs": [],
   "source": [
    "df_new.shape"
   ]
  },
  {
   "cell_type": "code",
   "execution_count": null,
   "id": "852d3a3e",
   "metadata": {},
   "outputs": [],
   "source": [
    "df = pd.read_csv('D:/Lab5/19house_train.csv')\n",
    "df.head()"
   ]
  },
  {
   "cell_type": "raw",
   "id": "9f419424",
   "metadata": {},
   "source": [
    "6.1. Гистограмма"
   ]
  },
  {
   "cell_type": "code",
   "execution_count": null,
   "id": "574d9535",
   "metadata": {},
   "outputs": [],
   "source": [
    "import seaborn as sb\n",
    "sb.distplot(df['SalePrice'])"
   ]
  },
  {
   "cell_type": "raw",
   "id": "1ab003c8",
   "metadata": {},
   "source": [
    "По рисунку: цена дома подчиняется нормальному распределению?"
   ]
  },
  {
   "cell_type": "raw",
   "id": "693f633c",
   "metadata": {},
   "source": [
    "Да, подчиняется."
   ]
  },
  {
   "cell_type": "code",
   "execution_count": null,
   "id": "a5bed4e4",
   "metadata": {},
   "outputs": [],
   "source": [
    "print(\"Skewness: %f\" % df['SalePrice'].skew())\n",
    "print(\"Kurtosis: %f\" % df['SalePrice'].kurt())"
   ]
  },
  {
   "cell_type": "raw",
   "id": "c496f386",
   "metadata": {},
   "source": [
    "Задание: Постройте гистограмму параметра SalePrice всех домов c заголовком 'Histogram of Sale Price', заголовок оси х – 'price', заголовок оси у – 'count'."
   ]
  },
  {
   "cell_type": "code",
   "execution_count": null,
   "id": "5b17ce3a",
   "metadata": {},
   "outputs": [],
   "source": [
    "import matplotlib.pyplot as plt\n",
    "ax = sb.histplot(df['SalePrice'], color='orange')\n",
    "ax.set(xlabel='price', ylabel='count', title='Histogram of Sale Price')\n",
    "plt.show()"
   ]
  },
  {
   "cell_type": "raw",
   "id": "92511b2c",
   "metadata": {},
   "source": [
    "6.2. Boxplot"
   ]
  },
  {
   "cell_type": "raw",
   "id": "cc4ab758",
   "metadata": {},
   "source": [
    "Построить коробочную диаграмму (ящик с усами) признака SalePrice всех домов в данных. Боксплоты не показывают форму распределения, но они могут дать нам лучшее представление о центре и распространении распределения, а 5также о любых возможных выбросах, которые могут существовать. Боксплоты и гистограммы часто дополняют друг друга и помогают нам лучше понять данные. Заголовок рисунка – title='Box plot of SalePrice'."
   ]
  },
  {
   "cell_type": "code",
   "execution_count": null,
   "id": "3a8e3ee1",
   "metadata": {},
   "outputs": [],
   "source": [
    "ax = sb.boxplot(df['SalePrice'], color='orange')\n",
    "ax.set(xlabel='SalePrice', title='Box plot of SalePrice')\n",
    "plt.show()"
   ]
  },
  {
   "cell_type": "raw",
   "id": "43f77516",
   "metadata": {},
   "source": [
    "6.3. Гистограммы и Боксплоты по группам"
   ]
  },
  {
   "cell_type": "raw",
   "id": "044525cd",
   "metadata": {},
   "source": [
    "а) Для построения Boxplot и гистограмм цены дома сгруппируем данные с кондиционером (name = 'With air conditioning') и без кондиционера (name = 'No air conditioning'); для Boxplot title = \"Boxplot of Sale Price by air conditioning\". Результат:"
   ]
  },
  {
   "cell_type": "code",
   "execution_count": null,
   "id": "14729e70",
   "metadata": {},
   "outputs": [],
   "source": [
    "ax = sb.boxplot(y='SalePrice', x='CentralAir', data=df)\n",
    "ax.set(title='Boxplot of Sale Price by air conditioning')\n",
    "plt.show()"
   ]
  },
  {
   "cell_type": "raw",
   "id": "1ea5f8ce",
   "metadata": {},
   "source": [
    "б) Для гистограммы – заголовок title='Histogram of House Sale Price for both with and with no Central air conditioning'"
   ]
  },
  {
   "cell_type": "code",
   "execution_count": null,
   "id": "675e85b2",
   "metadata": {},
   "outputs": [],
   "source": [
    "ax = sb.histplot(x='SalePrice', hue='CentralAir', data=df)\n",
    "ax.set(title='Histogram of House Sale Price for both with and with no Central air conditioning')\n",
    "plt.show()"
   ]
  },
  {
   "cell_type": "raw",
   "id": "a4834c4e",
   "metadata": {},
   "source": [
    "в) Выведем описательную статистику 'CentralAir' и 'SalePrice' с помощью инструкции:"
   ]
  },
  {
   "cell_type": "code",
   "execution_count": null,
   "id": "4da6942c",
   "metadata": {},
   "outputs": [],
   "source": [
    "df.groupby('CentralAir')['SalePrice'].describe()"
   ]
  },
  {
   "cell_type": "raw",
   "id": "1f485add",
   "metadata": {},
   "source": [
    "г) Постройте Boxplot и гистограмму цены продажи домов (параметр 'SalePrice'), сгруппированные по размеру гаража (параметр 'GarageCars'): title = \"Boxplot of Sale Price by garage size\". Используйте при группировке name = 'no garage' и name = '1- car garage' – если гараж для одной машины; name = '2-car garage' – если гараж для двух машин; name = '3-car garage' – если гараж для трех машин; name = '4-car garage' – если гараж для четырех машин."
   ]
  },
  {
   "cell_type": "code",
   "execution_count": null,
   "id": "8ac83689",
   "metadata": {},
   "outputs": [],
   "source": [
    "ax = sb.boxplot(y='SalePrice', x='GarageCars', data=df)\n",
    "ax.set(title='Boxplot of Sale Price by garage size')\n",
    "plt.show()"
   ]
  },
  {
   "cell_type": "raw",
   "id": "6d0434ad",
   "metadata": {},
   "source": [
    "д) Гистограмму цены продажи дома без гаража title='Histogram of Sale Price of houses with no garage'"
   ]
  },
  {
   "cell_type": "code",
   "execution_count": null,
   "id": "43700ed2",
   "metadata": {},
   "outputs": [],
   "source": [
    "ax = sb.histplot(x='SalePrice', data=df.loc[df['GarageCars'] == 0])\n",
    "ax.set(title='Histogram of Sale Price of houses with no garage')\n",
    "plt.show()"
   ]
  },
  {
   "cell_type": "raw",
   "id": "6c036fd3",
   "metadata": {},
   "source": [
    "е) Гистограмму цены продажи дома с гаражом на 1 машину title='Histogram of Sale Price of houses with 1-car garage'"
   ]
  },
  {
   "cell_type": "code",
   "execution_count": null,
   "id": "809893be",
   "metadata": {},
   "outputs": [],
   "source": [
    "ax = sb.histplot(x='SalePrice', data=df.loc[df['GarageCars'] == 1])\n",
    "ax.set(title='Histogram of Sale Price of houses with 1-car garage')\n",
    "plt.show()"
   ]
  },
  {
   "cell_type": "raw",
   "id": "36bd5ff3",
   "metadata": {},
   "source": [
    "ё) Гистограмму цены продажи дома с гаражом на 2 машины title='Histogram of Sale Price of houses with 2-car garage')"
   ]
  },
  {
   "cell_type": "code",
   "execution_count": null,
   "id": "d0468bbe",
   "metadata": {},
   "outputs": [],
   "source": [
    "ax = sb.histplot(x='SalePrice', data=df.loc[df['GarageCars'] == 2])\n",
    "ax.set(title='Histogram of Sale Price of houses with 2-car garage')\n",
    "plt.show()"
   ]
  },
  {
   "cell_type": "raw",
   "id": "fbb92817",
   "metadata": {},
   "source": [
    "ж) Гистограмму цены продажи дома с гаражом на 3 машины title='Histogram of Sale Price of houses with 3-car garage'"
   ]
  },
  {
   "cell_type": "code",
   "execution_count": null,
   "id": "f49f3ed1",
   "metadata": {},
   "outputs": [],
   "source": [
    "ax = sb.histplot(x='SalePrice', data=df.loc[df['GarageCars'] == 3])\n",
    "ax.set(title='Histogram of Sale Price of houses with 3-car garage')\n",
    "plt.show()"
   ]
  },
  {
   "cell_type": "raw",
   "id": "b1196f34",
   "metadata": {},
   "source": [
    "з) Гистограмму цены продажи дома с гаражом на 4 машины title='Histogram of Sale Price of houses with 4-car garage'"
   ]
  },
  {
   "cell_type": "code",
   "execution_count": null,
   "id": "cdafc2a7",
   "metadata": {},
   "outputs": [],
   "source": [
    "ax = sb.histplot(x='SalePrice', data=df.loc[df['GarageCars'] == 4])\n",
    "ax.set(title='Histogram of Sale Price of houses with 4-car garage')\n",
    "plt.show()"
   ]
  },
  {
   "cell_type": "raw",
   "id": "e26a149d",
   "metadata": {},
   "source": [
    "6.4. Таблица частот"
   ]
  },
  {
   "cell_type": "raw",
   "id": "24132f10",
   "metadata": {},
   "source": [
    "а) Таблица частот размеров гаража"
   ]
  },
  {
   "cell_type": "code",
   "execution_count": null,
   "id": "c74cf94a",
   "metadata": {},
   "outputs": [],
   "source": [
    "x = df.GarageCars.value_counts()\n",
    "x/x.sum()"
   ]
  },
  {
   "cell_type": "raw",
   "id": "52da8ce4",
   "metadata": {},
   "source": [
    "Наиболее распространены гаражи с двумя местами."
   ]
  },
  {
   "cell_type": "raw",
   "id": "037b1a0c",
   "metadata": {},
   "source": [
    "б) Таблица частот центрального кондиционирования"
   ]
  },
  {
   "cell_type": "code",
   "execution_count": null,
   "id": "b5d9d25f",
   "metadata": {},
   "outputs": [],
   "source": [
    "x = df.CentralAir.value_counts()\n",
    "x/x.sum()"
   ]
  },
  {
   "cell_type": "raw",
   "id": "72e64f98",
   "metadata": {},
   "source": [
    "6.5. Числовые характеристики параметров"
   ]
  },
  {
   "cell_type": "raw",
   "id": "aec7039f",
   "metadata": {},
   "source": [
    "Рассчитайте долю домов с продажной ценой между 25-м процентилем (129975) и 75-м процентилем (214000)."
   ]
  },
  {
   "cell_type": "code",
   "execution_count": 11,
   "id": "950b41db",
   "metadata": {},
   "outputs": [
    {
     "ename": "NameError",
     "evalue": "name 'df' is not defined",
     "output_type": "error",
     "traceback": [
      "\u001b[1;31m---------------------------------------------------------------------------\u001b[0m",
      "\u001b[1;31mNameError\u001b[0m                                 Traceback (most recent call last)",
      "Cell \u001b[1;32mIn [11], line 2\u001b[0m\n\u001b[0;32m      1\u001b[0m \u001b[38;5;28mprint\u001b[39m(\u001b[38;5;124m'\u001b[39m\u001b[38;5;124mThe proportion of the houses with prices between 25th percentile and 75th percentile: \u001b[39m\u001b[38;5;124m'\u001b[39m,\n\u001b[1;32m----> 2\u001b[0m np\u001b[38;5;241m.\u001b[39mmean((df\u001b[38;5;241m.\u001b[39mSalePrice \u001b[38;5;241m>\u001b[39m\u001b[38;5;241m=\u001b[39m \u001b[38;5;241m129975\u001b[39m) \u001b[38;5;241m&\u001b[39m (df\u001b[38;5;241m.\u001b[39mSalePrice \u001b[38;5;241m<\u001b[39m\u001b[38;5;241m=\u001b[39m \u001b[38;5;241m214000\u001b[39m)))\n",
      "\u001b[1;31mNameError\u001b[0m: name 'df' is not defined"
     ]
    }
   ],
   "source": [
    "print('The proportion of the houses with prices between 25th percentile and 75th percentile: ',\n",
    "np.mean((df.SalePrice >= 129975) & (df.SalePrice <= 214000)))"
   ]
  },
  {
   "cell_type": "raw",
   "id": "35a3f3ed",
   "metadata": {},
   "source": [
    "Рассчитайте долю домов с общей площадью в квадратных футах от 25-го процентиля (795,75) до 75-го процентиля (1298,25)."
   ]
  },
  {
   "cell_type": "code",
   "execution_count": 12,
   "id": "a67cbd57",
   "metadata": {},
   "outputs": [
    {
     "ename": "NameError",
     "evalue": "name 'df' is not defined",
     "output_type": "error",
     "traceback": [
      "\u001b[1;31m---------------------------------------------------------------------------\u001b[0m",
      "\u001b[1;31mNameError\u001b[0m                                 Traceback (most recent call last)",
      "Cell \u001b[1;32mIn [12], line 2\u001b[0m\n\u001b[0;32m      1\u001b[0m \u001b[38;5;28mprint\u001b[39m(\u001b[38;5;124m'\u001b[39m\u001b[38;5;124mThe proportion of house with total square feet of basement area between 25th percentile and 75th percentile:\u001b[39m\u001b[38;5;124m'\u001b[39m, \n\u001b[1;32m----> 2\u001b[0m np\u001b[38;5;241m.\u001b[39mmean((df\u001b[38;5;241m.\u001b[39mTotalBsmtSF \u001b[38;5;241m>\u001b[39m\u001b[38;5;241m=\u001b[39m \u001b[38;5;241m795.75\u001b[39m) \u001b[38;5;241m&\u001b[39m (df\u001b[38;5;241m.\u001b[39mTotalBsmtSF \u001b[38;5;241m<\u001b[39m\u001b[38;5;241m=\u001b[39m \u001b[38;5;241m1298.25\u001b[39m)))\n",
      "\u001b[1;31mNameError\u001b[0m: name 'df' is not defined"
     ]
    }
   ],
   "source": [
    "print('The proportion of house with total square feet of basement area between 25th percentile and 75th percentile:', \n",
    "np.mean((df.TotalBsmtSF >= 795.75) & (df.TotalBsmtSF <= 1298.25)))"
   ]
  },
  {
   "cell_type": "raw",
   "id": "0685bbeb",
   "metadata": {},
   "source": [
    "Наконец, мы рассчитаем долю домов на основе любых условий. Поскольку некоторые дома соответствуют обоим критериям, приведенная ниже пропорция меньше суммы двух пропорций, рассчитанных выше."
   ]
  },
  {
   "cell_type": "code",
   "execution_count": 13,
   "id": "4740b4eb",
   "metadata": {},
   "outputs": [
    {
     "ename": "NameError",
     "evalue": "name 'df' is not defined",
     "output_type": "error",
     "traceback": [
      "\u001b[1;31m---------------------------------------------------------------------------\u001b[0m",
      "\u001b[1;31mNameError\u001b[0m                                 Traceback (most recent call last)",
      "Cell \u001b[1;32mIn [13], line 1\u001b[0m\n\u001b[1;32m----> 1\u001b[0m a \u001b[38;5;241m=\u001b[39m (df\u001b[38;5;241m.\u001b[39mSalePrice \u001b[38;5;241m>\u001b[39m\u001b[38;5;241m=\u001b[39m \u001b[38;5;241m129975\u001b[39m) \u001b[38;5;241m&\u001b[39m (df\u001b[38;5;241m.\u001b[39mSalePrice \u001b[38;5;241m<\u001b[39m\u001b[38;5;241m=\u001b[39m \u001b[38;5;241m214000\u001b[39m)\n\u001b[0;32m      2\u001b[0m b \u001b[38;5;241m=\u001b[39m (df\u001b[38;5;241m.\u001b[39mTotalBsmtSF \u001b[38;5;241m>\u001b[39m\u001b[38;5;241m=\u001b[39m \u001b[38;5;241m795.75\u001b[39m) \u001b[38;5;241m&\u001b[39m (df\u001b[38;5;241m.\u001b[39mTotalBsmtSF \u001b[38;5;241m<\u001b[39m\u001b[38;5;241m=\u001b[39m \u001b[38;5;241m1298.25\u001b[39m)\n\u001b[0;32m      3\u001b[0m \u001b[38;5;28mprint\u001b[39m(np\u001b[38;5;241m.\u001b[39mmean(a \u001b[38;5;241m|\u001b[39m b))\n",
      "\u001b[1;31mNameError\u001b[0m: name 'df' is not defined"
     ]
    }
   ],
   "source": [
    "a = (df.SalePrice >= 129975) & (df.SalePrice <= 214000)\n",
    "b = (df.TotalBsmtSF >= 795.75) & (df.TotalBsmtSF <= 1298.25)\n",
    "print(np.mean(a | b))"
   ]
  },
  {
   "cell_type": "raw",
   "id": "40059311",
   "metadata": {},
   "source": [
    "Рассчитать цену продажи интерквартильного размаха IQR для домов без кондиционера. Англоязычная аббревиатура IQR – интерквартильный размах – число, которое показывает разброс средней половины (т.е. средние 50%) набора данных и помогает определить выбросы. IQR – это разница между третьим квартилем (Q3) и первым(Q1)."
   ]
  },
  {
   "cell_type": "code",
   "execution_count": 14,
   "id": "f0b38e21",
   "metadata": {},
   "outputs": [
    {
     "ename": "NameError",
     "evalue": "name 'df' is not defined",
     "output_type": "error",
     "traceback": [
      "\u001b[1;31m---------------------------------------------------------------------------\u001b[0m",
      "\u001b[1;31mNameError\u001b[0m                                 Traceback (most recent call last)",
      "Cell \u001b[1;32mIn [14], line 1\u001b[0m\n\u001b[1;32m----> 1\u001b[0m q75, q25 \u001b[38;5;241m=\u001b[39m np\u001b[38;5;241m.\u001b[39mpercentile(df\u001b[38;5;241m.\u001b[39mloc[df[\u001b[38;5;124m'\u001b[39m\u001b[38;5;124mCentralAir\u001b[39m\u001b[38;5;124m'\u001b[39m]\u001b[38;5;241m==\u001b[39m\u001b[38;5;124m'\u001b[39m\u001b[38;5;124mN\u001b[39m\u001b[38;5;124m'\u001b[39m][\u001b[38;5;124m'\u001b[39m\u001b[38;5;124mSalePrice\u001b[39m\u001b[38;5;124m'\u001b[39m], [\u001b[38;5;241m75\u001b[39m,\u001b[38;5;241m25\u001b[39m])\n\u001b[0;32m      2\u001b[0m iqr \u001b[38;5;241m=\u001b[39m q75 \u001b[38;5;241m-\u001b[39m q25\n\u001b[0;32m      3\u001b[0m \u001b[38;5;28mprint\u001b[39m(\u001b[38;5;124m'\u001b[39m\u001b[38;5;124mSale price IQR for houses with no air conditioning:\u001b[39m\u001b[38;5;124m'\u001b[39m, iqr)\n",
      "\u001b[1;31mNameError\u001b[0m: name 'df' is not defined"
     ]
    }
   ],
   "source": [
    "q75, q25 = np.percentile(df.loc[df['CentralAir']=='N']['SalePrice'], [75,25])\n",
    "iqr = q75 - q25\n",
    "print('Sale price IQR for houses with no air conditioning:', iqr)"
   ]
  },
  {
   "cell_type": "raw",
   "id": "fddc036f",
   "metadata": {},
   "source": [
    "Рассчитать цену продажи IQR для домов с кондиционером"
   ]
  },
  {
   "cell_type": "code",
   "execution_count": 15,
   "id": "ddb884e3",
   "metadata": {},
   "outputs": [
    {
     "ename": "NameError",
     "evalue": "name 'df' is not defined",
     "output_type": "error",
     "traceback": [
      "\u001b[1;31m---------------------------------------------------------------------------\u001b[0m",
      "\u001b[1;31mNameError\u001b[0m                                 Traceback (most recent call last)",
      "Cell \u001b[1;32mIn [15], line 1\u001b[0m\n\u001b[1;32m----> 1\u001b[0m q75, q25 \u001b[38;5;241m=\u001b[39m np\u001b[38;5;241m.\u001b[39mpercentile(df\u001b[38;5;241m.\u001b[39mloc[df[\u001b[38;5;124m'\u001b[39m\u001b[38;5;124mCentralAir\u001b[39m\u001b[38;5;124m'\u001b[39m]\u001b[38;5;241m==\u001b[39m\u001b[38;5;124m'\u001b[39m\u001b[38;5;124mY\u001b[39m\u001b[38;5;124m'\u001b[39m][\u001b[38;5;124m'\u001b[39m\u001b[38;5;124mSalePrice\u001b[39m\u001b[38;5;124m'\u001b[39m], [\u001b[38;5;241m75\u001b[39m,\u001b[38;5;241m25\u001b[39m])\n\u001b[0;32m      2\u001b[0m iqr \u001b[38;5;241m=\u001b[39m q75 \u001b[38;5;241m-\u001b[39m q25\n\u001b[0;32m      3\u001b[0m \u001b[38;5;28mprint\u001b[39m(\u001b[38;5;124m'\u001b[39m\u001b[38;5;124mSale price IQR for houses with air conditioning: \u001b[39m\u001b[38;5;124m'\u001b[39m, iqr)\n",
      "\u001b[1;31mNameError\u001b[0m: name 'df' is not defined"
     ]
    }
   ],
   "source": [
    "q75, q25 = np.percentile(df.loc[df['CentralAir']=='Y']['SalePrice'], [75,25])\n",
    "iqr = q75 - q25\n",
    "print('Sale price IQR for houses with air conditioning: ', iqr)"
   ]
  },
  {
   "cell_type": "raw",
   "id": "5ab994c2",
   "metadata": {},
   "source": [
    "6.6. Стратификация"
   ]
  },
  {
   "cell_type": "code",
   "execution_count": 16,
   "id": "e953181c",
   "metadata": {},
   "outputs": [
    {
     "ename": "NameError",
     "evalue": "name 'df' is not defined",
     "output_type": "error",
     "traceback": [
      "\u001b[1;31m---------------------------------------------------------------------------\u001b[0m",
      "\u001b[1;31mNameError\u001b[0m                                 Traceback (most recent call last)",
      "Cell \u001b[1;32mIn [16], line 1\u001b[0m\n\u001b[1;32m----> 1\u001b[0m df[\u001b[38;5;124m'\u001b[39m\u001b[38;5;124mHouseAge\u001b[39m\u001b[38;5;124m'\u001b[39m] \u001b[38;5;241m=\u001b[39m \u001b[38;5;241m2019\u001b[39m \u001b[38;5;241m-\u001b[39m df[\u001b[38;5;124m'\u001b[39m\u001b[38;5;124mYearBuilt\u001b[39m\u001b[38;5;124m'\u001b[39m]\n\u001b[0;32m      2\u001b[0m df[\u001b[38;5;124m\"\u001b[39m\u001b[38;5;124mAgeGrp\u001b[39m\u001b[38;5;124m\"\u001b[39m] \u001b[38;5;241m=\u001b[39m pd\u001b[38;5;241m.\u001b[39mcut(df\u001b[38;5;241m.\u001b[39mHouseAge, [\u001b[38;5;241m9\u001b[39m, \u001b[38;5;241m20\u001b[39m, \u001b[38;5;241m40\u001b[39m, \u001b[38;5;241m60\u001b[39m, \u001b[38;5;241m80\u001b[39m, \u001b[38;5;241m100\u001b[39m, \u001b[38;5;241m147\u001b[39m]) \u001b[38;5;66;03m# Create age strata based on these cut points\u001b[39;00m\n\u001b[0;32m      3\u001b[0m plt\u001b[38;5;241m.\u001b[39mfigure(figsize\u001b[38;5;241m=\u001b[39m(\u001b[38;5;241m12\u001b[39m, \u001b[38;5;241m5\u001b[39m))\n",
      "\u001b[1;31mNameError\u001b[0m: name 'df' is not defined"
     ]
    }
   ],
   "source": [
    "df['HouseAge'] = 2019 - df['YearBuilt']\n",
    "df[\"AgeGrp\"] = pd.cut(df.HouseAge, [9, 20, 40, 60, 80, 100, 147]) # Create age strata based on these cut points\n",
    "plt.figure(figsize=(12, 5))\n",
    "sb.boxplot(x=\"AgeGrp\", y=\"SalePrice\", data=df)"
   ]
  },
  {
   "cell_type": "raw",
   "id": "45698174",
   "metadata": {},
   "source": [
    "Вопрос: Сравните возраст дома и среднюю цену на него. Какая наблюдается закономерность?"
   ]
  },
  {
   "cell_type": "code",
   "execution_count": 17,
   "id": "6824a0d9",
   "metadata": {},
   "outputs": [
    {
     "ename": "SyntaxError",
     "evalue": "invalid syntax (4198862575.py, line 1)",
     "output_type": "error",
     "traceback": [
      "\u001b[1;36m  Cell \u001b[1;32mIn [17], line 1\u001b[1;36m\u001b[0m\n\u001b[1;33m    Чем моложе дом, тем больше цена.\u001b[0m\n\u001b[1;37m        ^\u001b[0m\n\u001b[1;31mSyntaxError\u001b[0m\u001b[1;31m:\u001b[0m invalid syntax\n"
     ]
    }
   ],
   "source": [
    "Чем моложе дом, тем больше цена."
   ]
  },
  {
   "cell_type": "code",
   "execution_count": null,
   "id": "2a6ca24b",
   "metadata": {},
   "outputs": [],
   "source": [
    "import matplotlib.pyplot as plt\n",
    "plt.figure(figsize=(12, 5))\n",
    "sb.boxplot(x=\"YearBuilt\", y=\"SalePrice\", hue=\"CentralAir\", data=df)\n",
    "plt.show()"
   ]
  },
  {
   "cell_type": "raw",
   "id": "a3efd927",
   "metadata": {},
   "source": [
    "Сделайте вывод: какие по возрасту дома более оснащены кондиционерами."
   ]
  },
  {
   "cell_type": "raw",
   "id": "b7e0f0b6",
   "metadata": {},
   "source": [
    "Более новые дома оснащены кондиционерами."
   ]
  },
  {
   "cell_type": "code",
   "execution_count": 18,
   "id": "749dec74",
   "metadata": {},
   "outputs": [
    {
     "ename": "NameError",
     "evalue": "name 'plt' is not defined",
     "output_type": "error",
     "traceback": [
      "\u001b[1;31m---------------------------------------------------------------------------\u001b[0m",
      "\u001b[1;31mNameError\u001b[0m                                 Traceback (most recent call last)",
      "Cell \u001b[1;32mIn [18], line 1\u001b[0m\n\u001b[1;32m----> 1\u001b[0m plt\u001b[38;5;241m.\u001b[39mfigure(figsize\u001b[38;5;241m=\u001b[39m(\u001b[38;5;241m12\u001b[39m, \u001b[38;5;241m5\u001b[39m))\n\u001b[0;32m      2\u001b[0m sb\u001b[38;5;241m.\u001b[39mboxplot(x\u001b[38;5;241m=\u001b[39m\u001b[38;5;124m\"\u001b[39m\u001b[38;5;124mCentralAir\u001b[39m\u001b[38;5;124m\"\u001b[39m, y\u001b[38;5;241m=\u001b[39m\u001b[38;5;124m\"\u001b[39m\u001b[38;5;124mSalePrice\u001b[39m\u001b[38;5;124m\"\u001b[39m, hue\u001b[38;5;241m=\u001b[39m\u001b[38;5;124m\"\u001b[39m\u001b[38;5;124mYearBuilt\u001b[39m\u001b[38;5;124m\"\u001b[39m, data\u001b[38;5;241m=\u001b[39mdf)\n\u001b[0;32m      3\u001b[0m plt\u001b[38;5;241m.\u001b[39mshow()\n",
      "\u001b[1;31mNameError\u001b[0m: name 'plt' is not defined"
     ]
    }
   ],
   "source": [
    "plt.figure(figsize=(12, 5))\n",
    "sb.boxplot(x=\"CentralAir\", y=\"SalePrice\", hue=\"YearBuilt\", data=df)\n",
    "plt.show()"
   ]
  },
  {
   "cell_type": "code",
   "execution_count": null,
   "id": "06c24749",
   "metadata": {},
   "outputs": [],
   "source": [
    "df1 = df.groupby([\"YearBuilt\", \"CentralAir\"])[\"BldgType\"]\n",
    "df1 = df1.value_counts()\n",
    "df1 = df1.unstack()\n",
    "df1 = df1.apply(lambda x: x/x.sum(), axis=1)\n",
    "print(df1.to_string(float_format=\"%.3f\"))"
   ]
  },
  {
   "cell_type": "raw",
   "id": "820b92a7",
   "metadata": {},
   "source": [
    "6.6. Отображения диаграмм"
   ]
  },
  {
   "cell_type": "code",
   "execution_count": 19,
   "id": "aad4eca9",
   "metadata": {},
   "outputs": [
    {
     "ename": "NameError",
     "evalue": "name 'plt' is not defined",
     "output_type": "error",
     "traceback": [
      "\u001b[1;31m---------------------------------------------------------------------------\u001b[0m",
      "\u001b[1;31mNameError\u001b[0m                                 Traceback (most recent call last)",
      "Cell \u001b[1;32mIn [19], line 2\u001b[0m\n\u001b[0;32m      1\u001b[0m output,var,var1,var2 \u001b[38;5;241m=\u001b[39m \u001b[38;5;124m'\u001b[39m\u001b[38;5;124mSalePrice\u001b[39m\u001b[38;5;124m'\u001b[39m, \u001b[38;5;124m'\u001b[39m\u001b[38;5;124mGrLivArea\u001b[39m\u001b[38;5;124m'\u001b[39m, \u001b[38;5;124m'\u001b[39m\u001b[38;5;124mTotalBsmtSF\u001b[39m\u001b[38;5;124m'\u001b[39m, \u001b[38;5;124m'\u001b[39m\u001b[38;5;124mOverallQual\u001b[39m\u001b[38;5;124m'\u001b[39m\n\u001b[1;32m----> 2\u001b[0m fig, axes \u001b[38;5;241m=\u001b[39m plt\u001b[38;5;241m.\u001b[39msubplots(nrows\u001b[38;5;241m=\u001b[39m\u001b[38;5;241m1\u001b[39m,ncols\u001b[38;5;241m=\u001b[39m\u001b[38;5;241m3\u001b[39m,figsize\u001b[38;5;241m=\u001b[39m(\u001b[38;5;241m16\u001b[39m,\u001b[38;5;241m5\u001b[39m))\n\u001b[0;32m      3\u001b[0m df\u001b[38;5;241m.\u001b[39mplot\u001b[38;5;241m.\u001b[39mscatter(x\u001b[38;5;241m=\u001b[39mvar,y\u001b[38;5;241m=\u001b[39moutput,ylim\u001b[38;5;241m=\u001b[39m(\u001b[38;5;241m0\u001b[39m,\u001b[38;5;241m800000\u001b[39m),ax\u001b[38;5;241m=\u001b[39maxes[\u001b[38;5;241m0\u001b[39m])\n\u001b[0;32m      4\u001b[0m df\u001b[38;5;241m.\u001b[39mplot\u001b[38;5;241m.\u001b[39mscatter(x\u001b[38;5;241m=\u001b[39mvar1,y\u001b[38;5;241m=\u001b[39moutput,ylim\u001b[38;5;241m=\u001b[39m(\u001b[38;5;241m0\u001b[39m,\u001b[38;5;241m800000\u001b[39m),ax\u001b[38;5;241m=\u001b[39maxes[\u001b[38;5;241m1\u001b[39m])\n",
      "\u001b[1;31mNameError\u001b[0m: name 'plt' is not defined"
     ]
    }
   ],
   "source": [
    "output,var,var1,var2 = 'SalePrice', 'GrLivArea', 'TotalBsmtSF', 'OverallQual'\n",
    "fig, axes = plt.subplots(nrows=1,ncols=3,figsize=(16,5))\n",
    "df.plot.scatter(x=var,y=output,ylim=(0,800000),ax=axes[0])\n",
    "df.plot.scatter(x=var1,y=output,ylim=(0,800000),ax=axes[1])\n",
    "df.plot.scatter(x=var2,y=output,ylim=(0,800000),ax=axes[2])"
   ]
  },
  {
   "cell_type": "raw",
   "id": "140eaaed",
   "metadata": {},
   "source": [
    "Наблюдается ли взаимосвязь между переменными?"
   ]
  },
  {
   "cell_type": "raw",
   "id": "ed19bdfd",
   "metadata": {},
   "source": [
    "Да, наблюдается взаимосвязь между переменными."
   ]
  },
  {
   "cell_type": "code",
   "execution_count": 20,
   "id": "5708ba74",
   "metadata": {},
   "outputs": [
    {
     "ename": "NameError",
     "evalue": "name 'plt' is not defined",
     "output_type": "error",
     "traceback": [
      "\u001b[1;31m---------------------------------------------------------------------------\u001b[0m",
      "\u001b[1;31mNameError\u001b[0m                                 Traceback (most recent call last)",
      "Cell \u001b[1;32mIn [20], line 1\u001b[0m\n\u001b[1;32m----> 1\u001b[0m fig, ax \u001b[38;5;241m=\u001b[39m plt\u001b[38;5;241m.\u001b[39msubplots(figsize\u001b[38;5;241m=\u001b[39m(\u001b[38;5;241m8\u001b[39m,\u001b[38;5;241m6\u001b[39m))\n\u001b[0;32m      2\u001b[0m sb\u001b[38;5;241m.\u001b[39mboxplot(x\u001b[38;5;241m=\u001b[39mvar2,y\u001b[38;5;241m=\u001b[39moutput,data\u001b[38;5;241m=\u001b[39mdf)\n\u001b[0;32m      3\u001b[0m ax\u001b[38;5;241m.\u001b[39mset_ylim(\u001b[38;5;241m0\u001b[39m,\u001b[38;5;241m800000\u001b[39m)\n",
      "\u001b[1;31mNameError\u001b[0m: name 'plt' is not defined"
     ]
    }
   ],
   "source": [
    "fig, ax = plt.subplots(figsize=(8,6))\n",
    "sb.boxplot(x=var2,y=output,data=df)\n",
    "ax.set_ylim(0,800000)\n",
    "plt.show()"
   ]
  },
  {
   "cell_type": "raw",
   "id": "ea97e2d6",
   "metadata": {},
   "source": [
    "Между какими параметрами построен boxplot? Есть ли выбросы в данных?"
   ]
  },
  {
   "cell_type": "code",
   "execution_count": 21,
   "id": "33356bdb",
   "metadata": {},
   "outputs": [
    {
     "ename": "SyntaxError",
     "evalue": "invalid syntax (3010066505.py, line 1)",
     "output_type": "error",
     "traceback": [
      "\u001b[1;36m  Cell \u001b[1;32mIn [21], line 1\u001b[1;36m\u001b[0m\n\u001b[1;33m    Boxplot построен между ценой и качеством, выбросы имеются.\u001b[0m\n\u001b[1;37m            ^\u001b[0m\n\u001b[1;31mSyntaxError\u001b[0m\u001b[1;31m:\u001b[0m invalid syntax\n"
     ]
    }
   ],
   "source": [
    "Boxplot построен между ценой и качеством, выбросы имеются."
   ]
  },
  {
   "cell_type": "code",
   "execution_count": null,
   "id": "c69bdfd4",
   "metadata": {},
   "outputs": [],
   "source": [
    "var3 = 'YearBuilt'\n",
    "fig, ax = plt.subplots(figsize=(16,8))\n",
    "sb.boxplot(x=var3,y=output,data=df)\n",
    "ax.set_ylim(0,800000)\n",
    "plt.xticks(rotation=90)\n",
    "plt.show()"
   ]
  },
  {
   "cell_type": "raw",
   "id": "5899329d",
   "metadata": {},
   "source": [
    "6.7. Отображение тепловой карты характеристической ковариационной матрицы"
   ]
  },
  {
   "cell_type": "code",
   "execution_count": 22,
   "id": "b8fd607e",
   "metadata": {},
   "outputs": [
    {
     "ename": "NameError",
     "evalue": "name 'df' is not defined",
     "output_type": "error",
     "traceback": [
      "\u001b[1;31m---------------------------------------------------------------------------\u001b[0m",
      "\u001b[1;31mNameError\u001b[0m                                 Traceback (most recent call last)",
      "Cell \u001b[1;32mIn [22], line 1\u001b[0m\n\u001b[1;32m----> 1\u001b[0m corrmat \u001b[38;5;241m=\u001b[39m df\u001b[38;5;241m.\u001b[39mcorr()\n\u001b[0;32m      2\u001b[0m f, ax \u001b[38;5;241m=\u001b[39m plt\u001b[38;5;241m.\u001b[39msubplots(figsize\u001b[38;5;241m=\u001b[39m(\u001b[38;5;241m12\u001b[39m, \u001b[38;5;241m9\u001b[39m))\n\u001b[0;32m      3\u001b[0m sb\u001b[38;5;241m.\u001b[39mheatmap(corrmat, vmax \u001b[38;5;241m=\u001b[39m \u001b[38;5;241m.8\u001b[39m, square \u001b[38;5;241m=\u001b[39m \u001b[38;5;28;01mTrue\u001b[39;00m, ax \u001b[38;5;241m=\u001b[39m ax)\n",
      "\u001b[1;31mNameError\u001b[0m: name 'df' is not defined"
     ]
    }
   ],
   "source": [
    "corrmat = df.corr()\n",
    "f, ax = plt.subplots(figsize=(12, 9))\n",
    "sb.heatmap(corrmat, vmax = .8, square = True, ax = ax)\n",
    "plt.show()"
   ]
  },
  {
   "cell_type": "code",
   "execution_count": null,
   "id": "2c9552ed",
   "metadata": {},
   "outputs": [],
   "source": [
    "k = 10\n",
    "top10_attr = corrmat.nlargest(k, output).index\n",
    "top10_mat = corrmat.loc[top10_attr, top10_attr]\n",
    "fig,ax = plt.subplots(figsize=(8,6))\n",
    "sb.set(font_scale=1.25)\n",
    "sb.heatmap(top10_mat, annot=True, annot_kws={'size':12}, square=True)\n",
    "# Установите аннотацию для отображения чисел в маленьких ячейках и annot_kws для настройки числового формата\n",
    "plt.show()"
   ]
  },
  {
   "cell_type": "raw",
   "id": "f5e9dfa2",
   "metadata": {},
   "source": [
    "6.7. Графическая матрица, объединяющая точечные и столбчатые диаграммы"
   ]
  },
  {
   "cell_type": "code",
   "execution_count": 23,
   "id": "c6cf6b7f",
   "metadata": {},
   "outputs": [
    {
     "ename": "NameError",
     "evalue": "name 'sb' is not defined",
     "output_type": "error",
     "traceback": [
      "\u001b[1;31m---------------------------------------------------------------------------\u001b[0m",
      "\u001b[1;31mNameError\u001b[0m                                 Traceback (most recent call last)",
      "Cell \u001b[1;32mIn [23], line 2\u001b[0m\n\u001b[0;32m      1\u001b[0m var_set \u001b[38;5;241m=\u001b[39m [\u001b[38;5;124m'\u001b[39m\u001b[38;5;124mSalePrice\u001b[39m\u001b[38;5;124m'\u001b[39m, \u001b[38;5;124m'\u001b[39m\u001b[38;5;124mOverallQual\u001b[39m\u001b[38;5;124m'\u001b[39m, \u001b[38;5;124m'\u001b[39m\u001b[38;5;124mGrLivArea\u001b[39m\u001b[38;5;124m'\u001b[39m, \u001b[38;5;124m'\u001b[39m\u001b[38;5;124mGarageCars\u001b[39m\u001b[38;5;124m'\u001b[39m, \u001b[38;5;124m'\u001b[39m\u001b[38;5;124mTotalBsmtSF\u001b[39m\u001b[38;5;124m'\u001b[39m, \u001b[38;5;124m'\u001b[39m\u001b[38;5;124mFullBath\u001b[39m\u001b[38;5;124m'\u001b[39m, \u001b[38;5;124m'\u001b[39m\u001b[38;5;124mYearBuilt\u001b[39m\u001b[38;5;124m'\u001b[39m]\n\u001b[1;32m----> 2\u001b[0m sb\u001b[38;5;241m.\u001b[39mset (font_scale \u001b[38;5;241m=\u001b[39m \u001b[38;5;241m1.25\u001b[39m) \u001b[38;5;66;03m# Устанавливаем размер шрифта по горизонтальной и вертикальной оси\u001b[39;00m\n\u001b[0;32m      3\u001b[0m sb\u001b[38;5;241m.\u001b[39mpairplot (df[var_set]) \u001b[38;5;66;03m# 7 * 7 графическая матрица\u001b[39;00m\n\u001b[0;32m      4\u001b[0m \u001b[38;5;66;03m# Различные типы отображения могут быть установлены в параметрах kind и diag_kind, вот диаграммы разброса и гистограммы, и вы также можете установить разные типы отображения на каждом графике\u001b[39;00m\n",
      "\u001b[1;31mNameError\u001b[0m: name 'sb' is not defined"
     ]
    }
   ],
   "source": [
    "var_set = ['SalePrice', 'OverallQual', 'GrLivArea', 'GarageCars', 'TotalBsmtSF', 'FullBath', 'YearBuilt']\n",
    "sb.set (font_scale = 1.25) # Устанавливаем размер шрифта по горизонтальной и вертикальной оси\n",
    "sb.pairplot (df[var_set]) # 7 * 7 графическая матрица\n",
    "# Различные типы отображения могут быть установлены в параметрах kind и diag_kind, вот диаграммы разброса и гистограммы, и вы также можете установить разные типы отображения на каждом графике\n",
    "plt.show()"
   ]
  },
  {
   "cell_type": "markdown",
   "id": "44462f27",
   "metadata": {},
   "source": [
    "# Задание №3."
   ]
  },
  {
   "cell_type": "raw",
   "id": "94cc5d28",
   "metadata": {},
   "source": [
    "Изучите файл https://cloud.mail.ru/public/ZpXM/CzbXousb7 и расположенное на предпоследнем слайде. Данные https://cloud.mail.ru/public/Zg8c/vC68paTcx. выполните скачайте задание, отсюда"
   ]
  },
  {
   "cell_type": "code",
   "execution_count": 24,
   "id": "a8332b71",
   "metadata": {},
   "outputs": [
    {
     "data": {
      "text/html": [
       "<div>\n",
       "<style scoped>\n",
       "    .dataframe tbody tr th:only-of-type {\n",
       "        vertical-align: middle;\n",
       "    }\n",
       "\n",
       "    .dataframe tbody tr th {\n",
       "        vertical-align: top;\n",
       "    }\n",
       "\n",
       "    .dataframe thead th {\n",
       "        text-align: right;\n",
       "    }\n",
       "</style>\n",
       "<table border=\"1\" class=\"dataframe\">\n",
       "  <thead>\n",
       "    <tr style=\"text-align: right;\">\n",
       "      <th></th>\n",
       "      <th>location</th>\n",
       "      <th>town</th>\n",
       "      <th>mortality</th>\n",
       "      <th>hardness</th>\n",
       "    </tr>\n",
       "  </thead>\n",
       "  <tbody>\n",
       "    <tr>\n",
       "      <th>0</th>\n",
       "      <td>South</td>\n",
       "      <td>Bath</td>\n",
       "      <td>1247</td>\n",
       "      <td>105</td>\n",
       "    </tr>\n",
       "    <tr>\n",
       "      <th>1</th>\n",
       "      <td>North</td>\n",
       "      <td>Birkenhead</td>\n",
       "      <td>1668</td>\n",
       "      <td>17</td>\n",
       "    </tr>\n",
       "    <tr>\n",
       "      <th>2</th>\n",
       "      <td>South</td>\n",
       "      <td>Birmingham</td>\n",
       "      <td>1466</td>\n",
       "      <td>5</td>\n",
       "    </tr>\n",
       "    <tr>\n",
       "      <th>3</th>\n",
       "      <td>North</td>\n",
       "      <td>Blackburn</td>\n",
       "      <td>1800</td>\n",
       "      <td>14</td>\n",
       "    </tr>\n",
       "    <tr>\n",
       "      <th>4</th>\n",
       "      <td>North</td>\n",
       "      <td>Blackpool</td>\n",
       "      <td>1609</td>\n",
       "      <td>18</td>\n",
       "    </tr>\n",
       "  </tbody>\n",
       "</table>\n",
       "</div>"
      ],
      "text/plain": [
       "  location        town  mortality  hardness\n",
       "0    South        Bath       1247       105\n",
       "1    North  Birkenhead       1668        17\n",
       "2    South  Birmingham       1466         5\n",
       "3    North   Blackburn       1800        14\n",
       "4    North   Blackpool       1609        18"
      ]
     },
     "execution_count": 24,
     "metadata": {},
     "output_type": "execute_result"
    }
   ],
   "source": [
    "df = pd.read_csv('D:/Lab5/14water.txt', sep='\\t')\n",
    "df.head()"
   ]
  },
  {
   "cell_type": "raw",
   "id": "5a63b369",
   "metadata": {},
   "source": [
    "1) Используя метод .describe() вычислите описательные статистики для северных и\n",
    "южных городов. Сравните средние значения смертности в северных и южных городах и значения концентрации кальция в питьевой воде"
   ]
  },
  {
   "cell_type": "code",
   "execution_count": 25,
   "id": "41d44a87",
   "metadata": {},
   "outputs": [
    {
     "data": {
      "text/html": [
       "<div>\n",
       "<style scoped>\n",
       "    .dataframe tbody tr th:only-of-type {\n",
       "        vertical-align: middle;\n",
       "    }\n",
       "\n",
       "    .dataframe tbody tr th {\n",
       "        vertical-align: top;\n",
       "    }\n",
       "\n",
       "    .dataframe thead th {\n",
       "        text-align: right;\n",
       "    }\n",
       "</style>\n",
       "<table border=\"1\" class=\"dataframe\">\n",
       "  <thead>\n",
       "    <tr style=\"text-align: right;\">\n",
       "      <th></th>\n",
       "      <th>mortality</th>\n",
       "      <th>hardness</th>\n",
       "    </tr>\n",
       "  </thead>\n",
       "  <tbody>\n",
       "    <tr>\n",
       "      <th>count</th>\n",
       "      <td>26.000000</td>\n",
       "      <td>26.000000</td>\n",
       "    </tr>\n",
       "    <tr>\n",
       "      <th>mean</th>\n",
       "      <td>1376.807692</td>\n",
       "      <td>69.769231</td>\n",
       "    </tr>\n",
       "    <tr>\n",
       "      <th>std</th>\n",
       "      <td>140.269175</td>\n",
       "      <td>40.360682</td>\n",
       "    </tr>\n",
       "    <tr>\n",
       "      <th>min</th>\n",
       "      <td>1096.000000</td>\n",
       "      <td>5.000000</td>\n",
       "    </tr>\n",
       "    <tr>\n",
       "      <th>25%</th>\n",
       "      <td>1259.250000</td>\n",
       "      <td>40.250000</td>\n",
       "    </tr>\n",
       "    <tr>\n",
       "      <th>50%</th>\n",
       "      <td>1364.000000</td>\n",
       "      <td>75.500000</td>\n",
       "    </tr>\n",
       "    <tr>\n",
       "      <th>75%</th>\n",
       "      <td>1485.750000</td>\n",
       "      <td>99.750000</td>\n",
       "    </tr>\n",
       "    <tr>\n",
       "      <th>max</th>\n",
       "      <td>1627.000000</td>\n",
       "      <td>138.000000</td>\n",
       "    </tr>\n",
       "  </tbody>\n",
       "</table>\n",
       "</div>"
      ],
      "text/plain": [
       "         mortality    hardness\n",
       "count    26.000000   26.000000\n",
       "mean   1376.807692   69.769231\n",
       "std     140.269175   40.360682\n",
       "min    1096.000000    5.000000\n",
       "25%    1259.250000   40.250000\n",
       "50%    1364.000000   75.500000\n",
       "75%    1485.750000   99.750000\n",
       "max    1627.000000  138.000000"
      ]
     },
     "execution_count": 25,
     "metadata": {},
     "output_type": "execute_result"
    }
   ],
   "source": [
    "df.loc[df.location == 'South'].describe()"
   ]
  },
  {
   "cell_type": "code",
   "execution_count": 26,
   "id": "6e684c68",
   "metadata": {},
   "outputs": [
    {
     "data": {
      "text/html": [
       "<div>\n",
       "<style scoped>\n",
       "    .dataframe tbody tr th:only-of-type {\n",
       "        vertical-align: middle;\n",
       "    }\n",
       "\n",
       "    .dataframe tbody tr th {\n",
       "        vertical-align: top;\n",
       "    }\n",
       "\n",
       "    .dataframe thead th {\n",
       "        text-align: right;\n",
       "    }\n",
       "</style>\n",
       "<table border=\"1\" class=\"dataframe\">\n",
       "  <thead>\n",
       "    <tr style=\"text-align: right;\">\n",
       "      <th></th>\n",
       "      <th>mortality</th>\n",
       "      <th>hardness</th>\n",
       "    </tr>\n",
       "  </thead>\n",
       "  <tbody>\n",
       "    <tr>\n",
       "      <th>count</th>\n",
       "      <td>35.000000</td>\n",
       "      <td>35.000000</td>\n",
       "    </tr>\n",
       "    <tr>\n",
       "      <th>mean</th>\n",
       "      <td>1633.600000</td>\n",
       "      <td>30.400000</td>\n",
       "    </tr>\n",
       "    <tr>\n",
       "      <th>std</th>\n",
       "      <td>136.936911</td>\n",
       "      <td>26.134494</td>\n",
       "    </tr>\n",
       "    <tr>\n",
       "      <th>min</th>\n",
       "      <td>1378.000000</td>\n",
       "      <td>6.000000</td>\n",
       "    </tr>\n",
       "    <tr>\n",
       "      <th>25%</th>\n",
       "      <td>1557.500000</td>\n",
       "      <td>12.500000</td>\n",
       "    </tr>\n",
       "    <tr>\n",
       "      <th>50%</th>\n",
       "      <td>1637.000000</td>\n",
       "      <td>17.000000</td>\n",
       "    </tr>\n",
       "    <tr>\n",
       "      <th>75%</th>\n",
       "      <td>1718.000000</td>\n",
       "      <td>44.000000</td>\n",
       "    </tr>\n",
       "    <tr>\n",
       "      <th>max</th>\n",
       "      <td>1987.000000</td>\n",
       "      <td>94.000000</td>\n",
       "    </tr>\n",
       "  </tbody>\n",
       "</table>\n",
       "</div>"
      ],
      "text/plain": [
       "         mortality   hardness\n",
       "count    35.000000  35.000000\n",
       "mean   1633.600000  30.400000\n",
       "std     136.936911  26.134494\n",
       "min    1378.000000   6.000000\n",
       "25%    1557.500000  12.500000\n",
       "50%    1637.000000  17.000000\n",
       "75%    1718.000000  44.000000\n",
       "max    1987.000000  94.000000"
      ]
     },
     "execution_count": 26,
     "metadata": {},
     "output_type": "execute_result"
    }
   ],
   "source": [
    "df.loc[df.location == 'North'].describe()"
   ]
  },
  {
   "cell_type": "raw",
   "id": "70ebe7b1",
   "metadata": {},
   "source": [
    "Среднее значение смертности больше на севере, среднее значение концентрации кальция в питьевой воде больше на юге."
   ]
  },
  {
   "cell_type": "raw",
   "id": "3ca3eba2",
   "metadata": {},
   "source": [
    "2) Постройте 95% доверительные интервалы для средней годовой смертности по\n",
    "всем южным и северным городам. Отличаются ли границы интервалов?"
   ]
  },
  {
   "cell_type": "code",
   "execution_count": 27,
   "id": "2f669d45",
   "metadata": {},
   "outputs": [],
   "source": [
    "from statsmodels.stats.weightstats import _tconfint_generic"
   ]
  },
  {
   "cell_type": "code",
   "execution_count": 28,
   "id": "3c4fcd49",
   "metadata": {},
   "outputs": [
    {
     "name": "stdout",
     "output_type": "stream",
     "text": [
      "South 95%:  (1320.1517462936238, 1433.463638321761)\n",
      "North 95%:  (1586.5605251961385, 1680.6394748038613)\n"
     ]
    }
   ],
   "source": [
    "df_south = df.loc[df.location == 'South']\n",
    "df_north = df.loc[df.location == 'North']\n",
    "mort_mean_s = df_south.mortality.mean()\n",
    "mort_mean_n = df_north.mortality.mean()\n",
    "mort_mean_std_s = df_south.mortality.std() / np.sqrt(df_south.mortality.shape[0])\n",
    "mort_mean_std_n = df_north.mortality.std() / np.sqrt(df_north.mortality.shape[0])\n",
    "print(\"South 95%: \", _tconfint_generic(mort_mean_s, mort_mean_std_s, df_south.mortality.shape[0] - 1, 0.05, 'two-sided'))\n",
    "print(\"North 95%: \", _tconfint_generic(mort_mean_n, mort_mean_std_n, df_north.mortality.shape[0] - 1, 0.05, 'two-sided'))"
   ]
  },
  {
   "cell_type": "raw",
   "id": "07eba0f0",
   "metadata": {},
   "source": [
    "Границы доверительного интервала сильно отличаются."
   ]
  },
  {
   "cell_type": "raw",
   "id": "c31b7d8f",
   "metadata": {},
   "source": [
    "3) Постройте 95% доверительные интервалы для средней концентрации кальция в\n",
    "питьевой воде для южных и северных городов. Отличаются ли границы интервалов?"
   ]
  },
  {
   "cell_type": "code",
   "execution_count": 29,
   "id": "180f8428",
   "metadata": {},
   "outputs": [
    {
     "name": "stdout",
     "output_type": "stream",
     "text": [
      "South 95%:  (53.467198692036106, 86.07126284642544)\n",
      "North 95%:  (21.42248728572426, 39.37751271427574)\n"
     ]
    }
   ],
   "source": [
    "df_south = df.loc[df.location == 'South']\n",
    "df_north = df.loc[df.location == 'North']\n",
    "mort_mean_s = df_south.hardness.mean()\n",
    "mort_mean_n = df_north.hardness.mean()\n",
    "mort_mean_std_s = df_south.hardness.std() / np.sqrt(df_south.hardness.shape[0])\n",
    "mort_mean_std_n = df_north.hardness.std() / np.sqrt(df_north.hardness.shape[0])\n",
    "print(\"South 95%: \", _tconfint_generic(mort_mean_s, mort_mean_std_s, df_south.hardness.shape[0] - 1, 0.05, 'two-sided'))\n",
    "print(\"North 95%: \", _tconfint_generic(mort_mean_n, mort_mean_std_n, df_north.hardness.shape[0] - 1, 0.05, 'two-sided'))"
   ]
  },
  {
   "cell_type": "raw",
   "id": "4cfc700e",
   "metadata": {},
   "source": [
    "Границы доверительного интервала сильно отличаются."
   ]
  },
  {
   "cell_type": "raw",
   "id": "3837e71f",
   "metadata": {},
   "source": [
    "4) Какие можно сделать выводы?"
   ]
  },
  {
   "cell_type": "raw",
   "id": "71dfde7a",
   "metadata": {},
   "source": [
    "Смертность выше на севере, концентрация кальция в питьевой воде выше на юге."
   ]
  },
  {
   "cell_type": "markdown",
   "id": "c78487df",
   "metadata": {},
   "source": [
    "# Задание №4."
   ]
  },
  {
   "cell_type": "raw",
   "id": "9052463e",
   "metadata": {},
   "source": [
    "Проведите всесторонний анализ и визуализацию данных. Пользуйтесь\n",
    "https://cloud.mail.ru/public/A8ie/9dJHy8iHo, материалами лекции и другими доступными\n",
    "источниками."
   ]
  },
  {
   "cell_type": "raw",
   "id": "9cbff70f",
   "metadata": {},
   "source": [
    "1. Используя ресурс kaggle (https://www.kaggle.com/), выберите один из наборов\n",
    "данных. Загрузите этот набор и выведите первые 10 записей на экран. "
   ]
  },
  {
   "cell_type": "code",
   "execution_count": 30,
   "id": "5708898d",
   "metadata": {},
   "outputs": [
    {
     "data": {
      "text/html": [
       "<div>\n",
       "<style scoped>\n",
       "    .dataframe tbody tr th:only-of-type {\n",
       "        vertical-align: middle;\n",
       "    }\n",
       "\n",
       "    .dataframe tbody tr th {\n",
       "        vertical-align: top;\n",
       "    }\n",
       "\n",
       "    .dataframe thead th {\n",
       "        text-align: right;\n",
       "    }\n",
       "</style>\n",
       "<table border=\"1\" class=\"dataframe\">\n",
       "  <thead>\n",
       "    <tr style=\"text-align: right;\">\n",
       "      <th></th>\n",
       "      <th>id</th>\n",
       "      <th>gender</th>\n",
       "      <th>age</th>\n",
       "      <th>hypertension</th>\n",
       "      <th>heart_disease</th>\n",
       "      <th>ever_married</th>\n",
       "      <th>work_type</th>\n",
       "      <th>Residence_type</th>\n",
       "      <th>avg_glucose_level</th>\n",
       "      <th>bmi</th>\n",
       "      <th>smoking_status</th>\n",
       "      <th>stroke</th>\n",
       "    </tr>\n",
       "  </thead>\n",
       "  <tbody>\n",
       "    <tr>\n",
       "      <th>0</th>\n",
       "      <td>9046</td>\n",
       "      <td>Male</td>\n",
       "      <td>67.0</td>\n",
       "      <td>0</td>\n",
       "      <td>1</td>\n",
       "      <td>Yes</td>\n",
       "      <td>Private</td>\n",
       "      <td>Urban</td>\n",
       "      <td>228.69</td>\n",
       "      <td>36.6</td>\n",
       "      <td>formerly smoked</td>\n",
       "      <td>1</td>\n",
       "    </tr>\n",
       "    <tr>\n",
       "      <th>1</th>\n",
       "      <td>51676</td>\n",
       "      <td>Female</td>\n",
       "      <td>61.0</td>\n",
       "      <td>0</td>\n",
       "      <td>0</td>\n",
       "      <td>Yes</td>\n",
       "      <td>Self-employed</td>\n",
       "      <td>Rural</td>\n",
       "      <td>202.21</td>\n",
       "      <td>NaN</td>\n",
       "      <td>never smoked</td>\n",
       "      <td>1</td>\n",
       "    </tr>\n",
       "    <tr>\n",
       "      <th>2</th>\n",
       "      <td>31112</td>\n",
       "      <td>Male</td>\n",
       "      <td>80.0</td>\n",
       "      <td>0</td>\n",
       "      <td>1</td>\n",
       "      <td>Yes</td>\n",
       "      <td>Private</td>\n",
       "      <td>Rural</td>\n",
       "      <td>105.92</td>\n",
       "      <td>32.5</td>\n",
       "      <td>never smoked</td>\n",
       "      <td>1</td>\n",
       "    </tr>\n",
       "    <tr>\n",
       "      <th>3</th>\n",
       "      <td>60182</td>\n",
       "      <td>Female</td>\n",
       "      <td>49.0</td>\n",
       "      <td>0</td>\n",
       "      <td>0</td>\n",
       "      <td>Yes</td>\n",
       "      <td>Private</td>\n",
       "      <td>Urban</td>\n",
       "      <td>171.23</td>\n",
       "      <td>34.4</td>\n",
       "      <td>smokes</td>\n",
       "      <td>1</td>\n",
       "    </tr>\n",
       "    <tr>\n",
       "      <th>4</th>\n",
       "      <td>1665</td>\n",
       "      <td>Female</td>\n",
       "      <td>79.0</td>\n",
       "      <td>1</td>\n",
       "      <td>0</td>\n",
       "      <td>Yes</td>\n",
       "      <td>Self-employed</td>\n",
       "      <td>Rural</td>\n",
       "      <td>174.12</td>\n",
       "      <td>24.0</td>\n",
       "      <td>never smoked</td>\n",
       "      <td>1</td>\n",
       "    </tr>\n",
       "    <tr>\n",
       "      <th>5</th>\n",
       "      <td>56669</td>\n",
       "      <td>Male</td>\n",
       "      <td>81.0</td>\n",
       "      <td>0</td>\n",
       "      <td>0</td>\n",
       "      <td>Yes</td>\n",
       "      <td>Private</td>\n",
       "      <td>Urban</td>\n",
       "      <td>186.21</td>\n",
       "      <td>29.0</td>\n",
       "      <td>formerly smoked</td>\n",
       "      <td>1</td>\n",
       "    </tr>\n",
       "    <tr>\n",
       "      <th>6</th>\n",
       "      <td>53882</td>\n",
       "      <td>Male</td>\n",
       "      <td>74.0</td>\n",
       "      <td>1</td>\n",
       "      <td>1</td>\n",
       "      <td>Yes</td>\n",
       "      <td>Private</td>\n",
       "      <td>Rural</td>\n",
       "      <td>70.09</td>\n",
       "      <td>27.4</td>\n",
       "      <td>never smoked</td>\n",
       "      <td>1</td>\n",
       "    </tr>\n",
       "    <tr>\n",
       "      <th>7</th>\n",
       "      <td>10434</td>\n",
       "      <td>Female</td>\n",
       "      <td>69.0</td>\n",
       "      <td>0</td>\n",
       "      <td>0</td>\n",
       "      <td>No</td>\n",
       "      <td>Private</td>\n",
       "      <td>Urban</td>\n",
       "      <td>94.39</td>\n",
       "      <td>22.8</td>\n",
       "      <td>never smoked</td>\n",
       "      <td>1</td>\n",
       "    </tr>\n",
       "    <tr>\n",
       "      <th>8</th>\n",
       "      <td>27419</td>\n",
       "      <td>Female</td>\n",
       "      <td>59.0</td>\n",
       "      <td>0</td>\n",
       "      <td>0</td>\n",
       "      <td>Yes</td>\n",
       "      <td>Private</td>\n",
       "      <td>Rural</td>\n",
       "      <td>76.15</td>\n",
       "      <td>NaN</td>\n",
       "      <td>Unknown</td>\n",
       "      <td>1</td>\n",
       "    </tr>\n",
       "    <tr>\n",
       "      <th>9</th>\n",
       "      <td>60491</td>\n",
       "      <td>Female</td>\n",
       "      <td>78.0</td>\n",
       "      <td>0</td>\n",
       "      <td>0</td>\n",
       "      <td>Yes</td>\n",
       "      <td>Private</td>\n",
       "      <td>Urban</td>\n",
       "      <td>58.57</td>\n",
       "      <td>24.2</td>\n",
       "      <td>Unknown</td>\n",
       "      <td>1</td>\n",
       "    </tr>\n",
       "  </tbody>\n",
       "</table>\n",
       "</div>"
      ],
      "text/plain": [
       "      id  gender   age  hypertension  heart_disease ever_married  \\\n",
       "0   9046    Male  67.0             0              1          Yes   \n",
       "1  51676  Female  61.0             0              0          Yes   \n",
       "2  31112    Male  80.0             0              1          Yes   \n",
       "3  60182  Female  49.0             0              0          Yes   \n",
       "4   1665  Female  79.0             1              0          Yes   \n",
       "5  56669    Male  81.0             0              0          Yes   \n",
       "6  53882    Male  74.0             1              1          Yes   \n",
       "7  10434  Female  69.0             0              0           No   \n",
       "8  27419  Female  59.0             0              0          Yes   \n",
       "9  60491  Female  78.0             0              0          Yes   \n",
       "\n",
       "       work_type Residence_type  avg_glucose_level   bmi   smoking_status  \\\n",
       "0        Private          Urban             228.69  36.6  formerly smoked   \n",
       "1  Self-employed          Rural             202.21   NaN     never smoked   \n",
       "2        Private          Rural             105.92  32.5     never smoked   \n",
       "3        Private          Urban             171.23  34.4           smokes   \n",
       "4  Self-employed          Rural             174.12  24.0     never smoked   \n",
       "5        Private          Urban             186.21  29.0  formerly smoked   \n",
       "6        Private          Rural              70.09  27.4     never smoked   \n",
       "7        Private          Urban              94.39  22.8     never smoked   \n",
       "8        Private          Rural              76.15   NaN          Unknown   \n",
       "9        Private          Urban              58.57  24.2          Unknown   \n",
       "\n",
       "   stroke  \n",
       "0       1  \n",
       "1       1  \n",
       "2       1  \n",
       "3       1  \n",
       "4       1  \n",
       "5       1  \n",
       "6       1  \n",
       "7       1  \n",
       "8       1  \n",
       "9       1  "
      ]
     },
     "execution_count": 30,
     "metadata": {},
     "output_type": "execute_result"
    }
   ],
   "source": [
    "df = pd.read_csv('D:/Lab5/healthcare-dataset-stroke data.csv')\n",
    "df.head(10)"
   ]
  },
  {
   "cell_type": "raw",
   "id": "5c113d22",
   "metadata": {},
   "source": [
    "2. Опишите данные набора: какие признаки в нем присутствуют, что они означают,\n",
    "какой у них тип данных, какие значения могут принимать."
   ]
  },
  {
   "cell_type": "raw",
   "id": "97d83a80",
   "metadata": {},
   "source": [
    "1) id: unique identifier (уникальный номер)\n",
    "2) gender: \"Male\", \"Female\" or \"Other\" (пол (мужской, женский, другой))\n",
    "3) age: age of the patient (возраст пациента)\n",
    "4) hypertension: 0 if the patient doesn't have hypertension, 1 if the patient has hypertension (гипертензия 0 - нет, 1 - есть)\n",
    "5) heart_disease: 0 if the patient doesn't have any heart diseases, 1 if the patient has a heart disease (сердечные заболевания 0 - нет, 1 - есть)\n",
    "6) ever_married: \"No\" or \"Yes\" (был(а) ли в браке (да, нет))\n",
    "7) work_type: \"children\", \"Govt_jov\", \"Never_worked\", \"Private\" or \"Self-employed\" (тип работы (ребенок, госработа, никогда не работал, частный или самозанятый))\n",
    "8) Residence_type: \"Rural\" or \"Urban\" (сельский или городской)\n",
    "9) avg_glucose_level: average glucose level in blood (средний уровень глюкозы в крови)\n",
    "10) bmi: body mass index (индекс массы тела)\n",
    "11) smoking_status: \"formerly smoked\", \"never smoked\", \"smokes\" or \"Unknown\" (статус курения «ранее курил», «никогда не курил», «курит» или «неизвестно»)\n",
    "12) stroke: 1 if the patient had a stroke or 0 if not (был ли инсульт 1 - да, 0 - нет)"
   ]
  },
  {
   "cell_type": "code",
   "execution_count": 31,
   "id": "b171852b",
   "metadata": {},
   "outputs": [
    {
     "name": "stdout",
     "output_type": "stream",
     "text": [
      "<class 'pandas.core.frame.DataFrame'>\n",
      "RangeIndex: 5110 entries, 0 to 5109\n",
      "Data columns (total 12 columns):\n",
      " #   Column             Non-Null Count  Dtype  \n",
      "---  ------             --------------  -----  \n",
      " 0   id                 5110 non-null   int64  \n",
      " 1   gender             5110 non-null   object \n",
      " 2   age                5110 non-null   float64\n",
      " 3   hypertension       5110 non-null   int64  \n",
      " 4   heart_disease      5110 non-null   int64  \n",
      " 5   ever_married       5110 non-null   object \n",
      " 6   work_type          5110 non-null   object \n",
      " 7   Residence_type     5110 non-null   object \n",
      " 8   avg_glucose_level  5110 non-null   float64\n",
      " 9   bmi                4909 non-null   float64\n",
      " 10  smoking_status     5110 non-null   object \n",
      " 11  stroke             5110 non-null   int64  \n",
      "dtypes: float64(3), int64(4), object(5)\n",
      "memory usage: 479.2+ KB\n"
     ]
    }
   ],
   "source": [
    "df.info()"
   ]
  },
  {
   "cell_type": "raw",
   "id": "fb4ebe0e",
   "metadata": {},
   "source": [
    "3. Укажите какие признаки являются количественными, качественными порядковыми\n",
    "и качественными номинальными."
   ]
  },
  {
   "cell_type": "raw",
   "id": "1aaa7caf",
   "metadata": {},
   "source": [
    "Количественные: age, avg_glucose_level, bmi"
   ]
  },
  {
   "cell_type": "raw",
   "id": "57b01587",
   "metadata": {},
   "source": [
    "Качественные номинальные: gender, hypertension, heart_disease, ever_married, work_type, Residence_type, smoking_status, stroke"
   ]
  },
  {
   "cell_type": "raw",
   "id": "edd0bb25",
   "metadata": {},
   "source": [
    "4. Рассчитайте параметры описательной статистики для признаков набора. С помощью\n",
    "параметров описательной статистики опишите один из количественных признаков и один из категориальных признаков. Есть ли в количественном признаке выбросы? Какое значение является выбросом и почему? По какому категориальному признаку можно группировать данные? Какие группировки представляют интерес и почему?"
   ]
  },
  {
   "cell_type": "code",
   "execution_count": 32,
   "id": "93a3ef98",
   "metadata": {},
   "outputs": [
    {
     "name": "stdout",
     "output_type": "stream",
     "text": [
      "Характеристики для уровня глюкозы\n",
      "Среднее значение: 106.1476771037182\n",
      "Гармоническое среднее: 0.09109645859169917\n",
      "Среднее геометрическое: 1.000630184098628\n",
      "Медиана: 91.88499999999999\n",
      "Мода: 93.88\n",
      "Дисперсия: 2050.600819911376\n",
      "Среднеквадратичное отклонение: 45.28356015058198\n",
      "Смещение: 1.5722838665030459\n",
      "Диапазон: 216.62\n",
      "Статистика:\n",
      "count    5110.000000\n",
      "mean      106.147677\n",
      "std        45.283560\n",
      "min        55.120000\n",
      "25%        77.245000\n",
      "50%        91.885000\n",
      "75%       114.090000\n",
      "max       271.740000\n",
      "Name: avg_glucose_level, dtype: float64\n"
     ]
    }
   ],
   "source": [
    "print(\"Характеристики для уровня глюкозы\")\n",
    "mean = np.mean(df['avg_glucose_level'])\n",
    "print(\"Среднее значение:\", mean)\n",
    "hmean = len(x) / sum(1 / item for item in df['avg_glucose_level'])\n",
    "print(\"Гармоническое среднее:\", hmean)\n",
    "gmean = 1\n",
    "for item in x:\n",
    "    gmean *= item\n",
    "    gmean **= 1 / len(df['avg_glucose_level'])\n",
    "print(\"Среднее геометрическое:\", gmean)\n",
    "median = np.median(df['avg_glucose_level'])\n",
    "print(\"Медиана:\", median)\n",
    "mode = statistics.mode(df['avg_glucose_level'])\n",
    "print(\"Мода:\", mode)\n",
    "var = np.var(df['avg_glucose_level'], ddof=1)\n",
    "print(\"Дисперсия:\", var)\n",
    "std = np.std(df['avg_glucose_level'], ddof=1)\n",
    "print(\"Среднеквадратичное отклонение:\", std)\n",
    "print(\"Смещение:\", df['avg_glucose_level'].skew())\n",
    "print(\"Диапазон:\", np.ptp(df['avg_glucose_level']))\n",
    "result = df['avg_glucose_level'].describe()\n",
    "print(\"Статистика:\", result, sep='\\n')"
   ]
  },
  {
   "cell_type": "raw",
   "id": "4cdc8002",
   "metadata": {},
   "source": [
    "6. Проведите корреляционный анализ. Есть ли в вашем наборе данных коррелирующие\n",
    "признаки?"
   ]
  },
  {
   "cell_type": "code",
   "execution_count": 33,
   "id": "000c1851",
   "metadata": {},
   "outputs": [
    {
     "name": "stderr",
     "output_type": "stream",
     "text": [
      "C:\\Users\\sobol\\AppData\\Local\\Temp\\ipykernel_11780\\2594278645.py:1: FutureWarning: The default value of numeric_only in DataFrame.corr is deprecated. In a future version, it will default to False. Select only valid columns or specify the value of numeric_only to silence this warning.\n",
      "  corrmat = df.corr()\n"
     ]
    },
    {
     "ename": "NameError",
     "evalue": "name 'plt' is not defined",
     "output_type": "error",
     "traceback": [
      "\u001b[1;31m---------------------------------------------------------------------------\u001b[0m",
      "\u001b[1;31mNameError\u001b[0m                                 Traceback (most recent call last)",
      "Cell \u001b[1;32mIn [33], line 2\u001b[0m\n\u001b[0;32m      1\u001b[0m corrmat \u001b[38;5;241m=\u001b[39m df\u001b[38;5;241m.\u001b[39mcorr()\n\u001b[1;32m----> 2\u001b[0m f, ax \u001b[38;5;241m=\u001b[39m plt\u001b[38;5;241m.\u001b[39msubplots(figsize\u001b[38;5;241m=\u001b[39m(\u001b[38;5;241m12\u001b[39m, \u001b[38;5;241m9\u001b[39m))\n\u001b[0;32m      3\u001b[0m sb\u001b[38;5;241m.\u001b[39mheatmap(corrmat, vmax \u001b[38;5;241m=\u001b[39m \u001b[38;5;241m.8\u001b[39m, square \u001b[38;5;241m=\u001b[39m \u001b[38;5;28;01mTrue\u001b[39;00m, ax \u001b[38;5;241m=\u001b[39m ax)\n\u001b[0;32m      4\u001b[0m plt\u001b[38;5;241m.\u001b[39mshow()\n",
      "\u001b[1;31mNameError\u001b[0m: name 'plt' is not defined"
     ]
    }
   ],
   "source": [
    "corrmat = df.corr()\n",
    "f, ax = plt.subplots(figsize=(12, 9))\n",
    "sb.heatmap(corrmat, vmax = .8, square = True, ax = ax)\n",
    "plt.show()"
   ]
  },
  {
   "cell_type": "code",
   "execution_count": null,
   "id": "188cfb7a",
   "metadata": {},
   "outputs": [],
   "source": [
    "k = 10\n",
    "output = 'stroke'\n",
    "top10_attr = corrmat.nlargest(k, output).index\n",
    "top10_mat = corrmat.loc[top10_attr, top10_attr]\n",
    "fig,ax = plt.subplots(figsize=(8,6))\n",
    "sb.set(font_scale=1.25)\n",
    "sb.heatmap(top10_mat, annot=True, annot_kws={'size':12}, square=True)\n",
    "plt.show()"
   ]
  },
  {
   "cell_type": "raw",
   "id": "964ae279",
   "metadata": {},
   "source": [
    "Пояснение: Есть очень слабая корреляция между инсультом и индексом массы тела, болезнями сердца, гипертензией и уровнем глюкозы."
   ]
  }
 ],
 "metadata": {
  "kernelspec": {
   "display_name": "Python 3 (ipykernel)",
   "language": "python",
   "name": "python3"
  },
  "language_info": {
   "codemirror_mode": {
    "name": "ipython",
    "version": 3
   },
   "file_extension": ".py",
   "mimetype": "text/x-python",
   "name": "python",
   "nbconvert_exporter": "python",
   "pygments_lexer": "ipython3",
   "version": "3.10.2"
  }
 },
 "nbformat": 4,
 "nbformat_minor": 5
}
